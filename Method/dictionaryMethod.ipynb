{
 "cells": [
  {
   "cell_type": "markdown",
   "metadata": {},
   "source": [
    "# 1. items\n",
    "```python\n",
    "dict.items() -> dict_items[(str,int)]\n",
    "```"
   ]
  },
  {
   "cell_type": "code",
   "execution_count": 68,
   "metadata": {},
   "outputs": [
    {
     "name": "stdout",
     "output_type": "stream",
     "text": [
      "a 1\n",
      "a\n",
      "b 200\n",
      "b\n",
      "c 5\n",
      "c\n",
      "k 99\n",
      "k\n",
      "########\n",
      "('a', 1)\n",
      "key: a\n",
      "value: 1\n",
      "('b', 200)\n",
      "key: b\n",
      "value: 200\n",
      "('c', 5)\n",
      "key: c\n",
      "value: 5\n",
      "('k', 99)\n",
      "key: k\n",
      "value: 99\n"
     ]
    }
   ],
   "source": [
    "dict_ = {\"a\":1,\"b\":200,\"c\":5,\"k\":99}\n",
    "# items 메서드로 리턴된 값은 iterable 해서 for문으로 참조가 가능하다\n",
    "for key, value in dict_.items():\n",
    "    print(key,value)\n",
    "    # 인덱스로 참조 가능\n",
    "    print(key[0])\n",
    "    # 에러발생\n",
    "    # key[1]\n",
    "print(\"########\")\n",
    "for x in dict_.items():\n",
    "    print(x)\n",
    "    print(\"key:\",x[0])\n",
    "    print(\"value:\",x[1])"
   ]
  },
  {
   "cell_type": "code",
   "execution_count": 71,
   "metadata": {},
   "outputs": [
    {
     "name": "stdout",
     "output_type": "stream",
     "text": [
      "튜플에서 값을 기준으로 : [('a', 1), ('k', 5), ('c', 89), ('b', 200)]\n",
      "튜플에서 키를 기준으로 : [('a', 1), ('b', 200), ('c', 89), ('k', 5)]\n"
     ]
    }
   ],
   "source": [
    "# 딕셔너리 정렬시 유용하다\n",
    "dict_ = {\"a\":1,\"b\":200,\"k\":5,\"c\":99}\n",
    "hi = sorted(dict_.items(), key=lambda x: x[1])\n",
    "print(\"튜플에서 값을 기준으로 :\",hi)\n",
    "hi = sorted(dict_.items(),key= lambda x: x[0])\n",
    "print(\"튜플에서 키를 기준으로 :\",hi)"
   ]
  },
  {
   "cell_type": "markdown",
   "metadata": {},
   "source": [
    "# 딕셔너리의 키가 같은 경우"
   ]
  },
  {
   "cell_type": "code",
   "execution_count": 41,
   "metadata": {},
   "outputs": [
    {
     "name": "stdout",
     "output_type": "stream",
     "text": [
      "name,key 우선순위 정렬 : \n",
      "[{'name': 'bok', 'age': -1}, {'name': 'bok', 'age': 0}, {'name': 'yang', 'age': 1}]\n",
      "\n"
     ]
    }
   ],
   "source": [
    "# 리스트 내부의 딕셔너리 정렬 (키의 종류가 동일한 경우)\n",
    "arr_ = [{\"name\":\"bok\",\"age\":0},{\"name\":\"yang\",\"age\":1},\n",
    "        {\"name\":\"bok\",\"age\":-1}]\n",
    "hi = sorted(arr_, key = lambda x: (x[\"name\"],x[\"age\"]))\n",
    "print(\"name,key 우선순위 정렬 : \",hi,sep=\"\\n\")\n",
    "print()"
   ]
  },
  {
   "cell_type": "markdown",
   "metadata": {},
   "source": [
    "# 딕셔너리의 키가 각각 다른 경우\n",
    "- 1. 키를 기준으로 오름/내림차순\n",
    "- 2. 값을 기준으로 오름/내림차순순\n",
    "- 3. 값을 기준으로 오름차순, 같은 값이라면 키를 기준으로 오름차순\n",
    "- 4. 값을 기준으로 내림차순, 같은 값이라면 키를 기준으로 내림차순"
   ]
  },
  {
   "cell_type": "code",
   "execution_count": 29,
   "metadata": {},
   "outputs": [
    {
     "name": "stdout",
     "output_type": "stream",
     "text": [
      "key 기준 오름차순 : [{'a': 99, 'k': 59}, {'p': 59, 'y': 33}, {'k': 33, 'z': 33}]\n",
      "key 기준 내림차순 : [{'k': 59, 'a': 99}, {'y': 33, 'p': 59}, {'z': 33, 'k': 33}]\n"
     ]
    }
   ],
   "source": [
    "#0. 키를 기준으로 오름/내림차순\n",
    "arr_ = [{\"a\":99,\"k\":59}, {\"y\":33,\"p\":59}, {\"z\":33,\"k\":33}]\n",
    "stack = [dict(sorted(_.items(), key = lambda x:x[0])) for _ in arr_]\n",
    "print(\"key 기준 오름차순 :\",stack)\n",
    "stack = [dict(sorted(_.items(), key = lambda x:x[0], reverse=True)) for _ in arr_]\n",
    "print(\"key 기준 내림차순 :\",stack)"
   ]
  },
  {
   "cell_type": "code",
   "execution_count": 37,
   "metadata": {},
   "outputs": [
    {
     "name": "stdout",
     "output_type": "stream",
     "text": [
      "값을 기준으로 오름차순 : [{'k': 59, 'a': 99}, {'y': 33, 'p': 59}, {'z': 33, 'k': 33}, {'a': 77, 'b': 77}]\n",
      "값을 기준으로 내림차순 : [{'a': 99, 'k': 59}, {'p': 59, 'y': 33}, {'z': 33, 'k': 33}, {'a': 77, 'b': 77}]\n"
     ]
    }
   ],
   "source": [
    "# 2. 값을 기준으로 오름/내림차순\n",
    "arr_ = [{\"a\":99,\"k\":59}, {\"y\":33,\"p\":59}, {\"z\":33,\"k\":33},{\"a\":77,\"b\":77}]\n",
    "stack = [dict(sorted(_.items(), key= lambda x:x[1])) for _ in arr_]\n",
    "print(\"값을 기준으로 오름차순 :\",stack)\n",
    "stack = [dict(sorted(_.items(), key= lambda x:-x[1])) for _ in arr_]\n",
    "print(\"값을 기준으로 내림차순 :\",stack)"
   ]
  },
  {
   "cell_type": "code",
   "execution_count": 40,
   "metadata": {},
   "outputs": [
    {
     "name": "stdout",
     "output_type": "stream",
     "text": [
      "[{'k': 59, 'a': 99}, {'y': 33, 'p': 59}, {'k': 33, 'z': 33}, {'a': 77, 'b': 77}]\n",
      "[{'k': 59, 'a': 99}, {'y': 33, 'p': 59}, {'z': 33, 'k': 33}, {'b': 77, 'a': 77}]\n"
     ]
    }
   ],
   "source": [
    "#2. 값을기준으로 오름차순, 같은 값이라면 키를 기준으로 오름차순\n",
    "stack = [dict(sorted(_.items(), key=lambda x:(x[1],x[0])))for _ in arr_]\n",
    "print(stack)\n",
    "#3. 값을기준으로 오름차순, 같은 값이라면 키를 기준으로 내림차순\n",
    "stack = [dict(sorted(_.items(), key = lambda x:(-x[1],x[0]), reverse=True)) for _ in arr_]\n",
    "print(stack)"
   ]
  },
  {
   "cell_type": "code",
   "execution_count": 16,
   "metadata": {},
   "outputs": [
    {
     "name": "stdout",
     "output_type": "stream",
     "text": [
      "[{'a': 99, 'k': 59}, {'p': 59, 'y': 33}, {'z': 33, 'k': 33}]\n"
     ]
    }
   ],
   "source": [
    "arr_ = [{\"a\":99,\"k\":59}, {\"y\":33,\"p\":59}, {\"z\":33,\"k\":33}]\n",
    "hi = [dict(sorted(_.items(), key=lambda x: (x[1], x[0]), reverse=True)) for _ in arr_]\n",
    "print(hi)"
   ]
  },
  {
   "cell_type": "markdown",
   "metadata": {},
   "source": [
    "# 2. keys\n",
    "```python\n",
    "dict.keys() -> list(keys)\n",
    "```"
   ]
  },
  {
   "cell_type": "code",
   "execution_count": 48,
   "metadata": {},
   "outputs": [
    {
     "name": "stdout",
     "output_type": "stream",
     "text": [
      "name\n",
      "age\n",
      "0 name\n",
      "1 age\n"
     ]
    }
   ],
   "source": [
    "dict_ = arr_[0]\n",
    "# 딕셔너리는 참조할때 키를 확인한다\n",
    "for v in dict_:\n",
    "    print(v)\n",
    "for idx, v in enumerate(dict_):\n",
    "    print(idx,v)"
   ]
  },
  {
   "cell_type": "code",
   "execution_count": 49,
   "metadata": {},
   "outputs": [
    {
     "data": {
      "text/plain": [
       "dict_keys(['name', 'age'])"
      ]
     },
     "execution_count": 49,
     "metadata": {},
     "output_type": "execute_result"
    }
   ],
   "source": [
    "dict_.keys()\n",
    "dict.keys()"
   ]
  },
  {
   "cell_type": "markdown",
   "metadata": {},
   "source": [
    "# 3. values\n",
    "```python\n",
    "dict.values() -> list(values)\n",
    "```"
   ]
  },
  {
   "cell_type": "code",
   "execution_count": 58,
   "metadata": {},
   "outputs": [
    {
     "name": "stdout",
     "output_type": "stream",
     "text": [
      "bok\n",
      "0\n"
     ]
    }
   ],
   "source": [
    "for v in dict_.values():\n",
    "    print(v)"
   ]
  }
 ],
 "metadata": {
  "kernelspec": {
   "display_name": "Python 3",
   "language": "python",
   "name": "python3"
  },
  "language_info": {
   "codemirror_mode": {
    "name": "ipython",
    "version": 3
   },
   "file_extension": ".py",
   "mimetype": "text/x-python",
   "name": "python",
   "nbconvert_exporter": "python",
   "pygments_lexer": "ipython3",
   "version": "3.12.7"
  }
 },
 "nbformat": 4,
 "nbformat_minor": 2
}
