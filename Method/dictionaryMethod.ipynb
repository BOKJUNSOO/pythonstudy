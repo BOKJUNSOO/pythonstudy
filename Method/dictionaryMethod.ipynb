{
 "cells": [
  {
   "cell_type": "markdown",
   "metadata": {},
   "source": [
    "# 1. items\n",
    "```python\n",
    "dict.items() -> dict_items[str,int]\n",
    "```"
   ]
  },
  {
   "cell_type": "code",
   "execution_count": 68,
   "metadata": {},
   "outputs": [
    {
     "name": "stdout",
     "output_type": "stream",
     "text": [
      "a 1\n",
      "a\n",
      "b 200\n",
      "b\n",
      "c 5\n",
      "c\n",
      "k 99\n",
      "k\n",
      "########\n",
      "('a', 1)\n",
      "key: a\n",
      "value: 1\n",
      "('b', 200)\n",
      "key: b\n",
      "value: 200\n",
      "('c', 5)\n",
      "key: c\n",
      "value: 5\n",
      "('k', 99)\n",
      "key: k\n",
      "value: 99\n"
     ]
    }
   ],
   "source": [
    "dict_ = {\"a\":1,\"b\":200,\"c\":5,\"k\":99}\n",
    "# items 메서드로 리턴된 값은 iterable 해서 for문으로 참조가 가능하다\n",
    "for key, value in dict_.items():\n",
    "    print(key,value)\n",
    "    # 인덱스로 참조 가능\n",
    "    print(key[0])\n",
    "    # 에러발생\n",
    "    # key[1]\n",
    "print(\"########\")\n",
    "for x in dict_.items():\n",
    "    print(x)\n",
    "    print(\"key:\",x[0])\n",
    "    print(\"value:\",x[1])"
   ]
  },
  {
   "cell_type": "code",
   "execution_count": 71,
   "metadata": {},
   "outputs": [
    {
     "name": "stdout",
     "output_type": "stream",
     "text": [
      "튜플에서 값을 기준으로 : [('a', 1), ('k', 5), ('c', 89), ('b', 200)]\n",
      "튜플에서 키를 기준으로 : [('a', 1), ('b', 200), ('c', 89), ('k', 5)]\n"
     ]
    }
   ],
   "source": [
    "# 딕셔너리 정렬시 유용하다\n",
    "dict_ = {\"a\":1,\"b\":200,\"k\":5,\"c\":99}\n",
    "hi = sorted(dict_.items(), key=lambda x: x[1])\n",
    "print(\"튜플에서 값을 기준으로 :\",hi)\n",
    "hi = sorted(dict_.items(),key= lambda x: x[0])\n",
    "print(\"튜플에서 키를 기준으로 :\",hi)"
   ]
  },
  {
   "cell_type": "code",
   "execution_count": 80,
   "metadata": {},
   "outputs": [
    {
     "name": "stdout",
     "output_type": "stream",
     "text": [
      "name,key 우선순위 정렬 : \n",
      "[{'name': 'bok', 'age': -1}, {'name': 'bok', 'age': 0}, {'name': 'yang', 'age': 1}]\n",
      "\n",
      "벨류 우선순위 정렬 [{'k': 59, 'a': 99}, {'p': 33, 'y': 59}]\n",
      "\n",
      "key 우선순위 재 정렬 [{'a': 99, 'k': 59}, {'p': 33, 'y': 59}]\n"
     ]
    }
   ],
   "source": [
    "# 리스트 내부의 딕셔너리 정렬 (키가 같은 경우)\n",
    "arr_ = [{\"name\":\"bok\",\"age\":0},{\"name\":\"yang\",\"age\":1},\n",
    "        {\"name\":\"bok\",\"age\":-1}]\n",
    "hi = sorted(arr_, key = lambda x: (x[\"name\"],x[\"age\"]))\n",
    "print(\"name,key 우선순위 정렬 : \",hi,sep=\"\\n\")\n",
    "print()\n",
    "\n",
    "# 리스트 내부의 딕셔너리 정렬 (키가 다른 경우) --> 각각을 정렬하고 다시 리스트로 만든다\n",
    "arr_ = [{\"a\":99,\"k\":59},{\"p\":33,\"y\":59}]\n",
    "hi = [dict(sorted(_.items(),key=lambda x:x[1])) for _ in arr_]\n",
    "print(\"벨류 우선순위 정렬\",hi)\n",
    "print()\n",
    "hi = [dict(sorted(_.items(), key = lambda x : x[0])) for _ in arr_]\n",
    "print(\"key 우선순위 재 정렬\",hi)"
   ]
  }
 ],
 "metadata": {
  "kernelspec": {
   "display_name": "Python 3",
   "language": "python",
   "name": "python3"
  },
  "language_info": {
   "codemirror_mode": {
    "name": "ipython",
    "version": 3
   },
   "file_extension": ".py",
   "mimetype": "text/x-python",
   "name": "python",
   "nbconvert_exporter": "python",
   "pygments_lexer": "ipython3",
   "version": "3.12.7"
  }
 },
 "nbformat": 4,
 "nbformat_minor": 2
}
