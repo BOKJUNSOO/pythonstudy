{
 "cells": [
  {
   "cell_type": "markdown",
   "metadata": {},
   "source": [
    "#### list method & 연산 (feat.라이브러리)\n",
    "- 1) append(), extend(), 리스트 합연산, swap 연산\n",
    "- 2) sort()\n",
    "- 3) 큐 - pop(), popleft() ..\n",
    "- 4) 2차원 배열 \n",
    "    - 간선 그래프 할당\n",
    "    - 행렬 뒤집기기"
   ]
  },
  {
   "cell_type": "markdown",
   "metadata": {},
   "source": [
    "# 1. 리스트 기본 연산\n",
    "#### append() 연산\n",
    "```python\n",
    "list.append(object:Any)\n",
    "```\n",
    " - list가 저장된 힙을 참조하는 inplace 함수이다.\n",
    " - list 객체에 원소를 추가해주고, 오른쪽부터 추가된다."
   ]
  },
  {
   "cell_type": "code",
   "execution_count": 8,
   "metadata": {},
   "outputs": [
    {
     "name": "stdout",
     "output_type": "stream",
     "text": [
      "[3]\n"
     ]
    }
   ],
   "source": [
    "# 스택에 주소를 변화시키지 않고 힙을 참조했다.\n",
    "list_ = []\n",
    "list_.append(3)\n",
    "print(list_)"
   ]
  },
  {
   "cell_type": "code",
   "execution_count": 9,
   "metadata": {},
   "outputs": [
    {
     "ename": "TypeError",
     "evalue": "list.append() takes exactly one argument (2 given)",
     "output_type": "error",
     "traceback": [
      "\u001b[1;31m---------------------------------------------------------------------------\u001b[0m",
      "\u001b[1;31mTypeError\u001b[0m                                 Traceback (most recent call last)",
      "Cell \u001b[1;32mIn[9], line 2\u001b[0m\n\u001b[0;32m      1\u001b[0m \u001b[38;5;66;03m# 한번에 여러 원소를 입력할 수 없다.\u001b[39;00m\n\u001b[1;32m----> 2\u001b[0m \u001b[43mlist_\u001b[49m\u001b[38;5;241;43m.\u001b[39;49m\u001b[43mappend\u001b[49m\u001b[43m(\u001b[49m\u001b[38;5;241;43m3\u001b[39;49m\u001b[43m,\u001b[49m\u001b[38;5;241;43m4\u001b[39;49m\u001b[43m)\u001b[49m\n",
      "\u001b[1;31mTypeError\u001b[0m: list.append() takes exactly one argument (2 given)"
     ]
    }
   ],
   "source": [
    "# 한번에 여러 원소를 입력할 수 없다.\n",
    "list_.append(3,4)"
   ]
  },
  {
   "cell_type": "code",
   "execution_count": 10,
   "metadata": {},
   "outputs": [
    {
     "name": "stdout",
     "output_type": "stream",
     "text": [
      "[3, [3, 4]]\n"
     ]
    }
   ],
   "source": [
    "# list 객체를 추가하면 새로운 리스트 자체가 추가된다\n",
    "list_.append([3,4])\n",
    "print(list_)"
   ]
  },
  {
   "cell_type": "markdown",
   "metadata": {},
   "source": [
    "#### extend() 연산\n",
    "```python\n",
    "list.extend(iterable: Iterable[int])\n",
    "```\n",
    "- 마찬가지로 inplace 함수이다.\n",
    "- list 객체에 `iterable`한 원소를 추가해준다.\n",
    "- `iterable`한 객체를 for 문을 돌려 `append`해준다고 생각하면 된다."
   ]
  },
  {
   "cell_type": "code",
   "execution_count": 14,
   "metadata": {},
   "outputs": [
    {
     "name": "stdout",
     "output_type": "stream",
     "text": [
      "[1, 2, 3, 4]\n"
     ]
    }
   ],
   "source": [
    "# 새로운 리스트를 추가하는게 아니고 iterable한 객체의 원소를 오른쪽부터 하나씩 추가해준다.\n",
    "list_ = [1,2]\n",
    "list_.extend([3,4])\n",
    "print(list_)"
   ]
  },
  {
   "cell_type": "code",
   "execution_count": 15,
   "metadata": {},
   "outputs": [
    {
     "name": "stdout",
     "output_type": "stream",
     "text": [
      "[1, 2, 3, 4, 1, 2, 3]\n"
     ]
    }
   ],
   "source": [
    "# 1~3까지의 범위에 존재하는 수를 하나씩 끄집어내어 append 한다\n",
    "list_.extend(range(1,4))\n",
    "print(list_)"
   ]
  },
  {
   "cell_type": "code",
   "execution_count": 16,
   "metadata": {},
   "outputs": [
    {
     "name": "stdout",
     "output_type": "stream",
     "text": [
      "['j,u,n,e', 's', 'o', 'o']\n"
     ]
    }
   ],
   "source": [
    "# string도 iterable 하므로 각 문자열을 하나씩 뽑아와 추가한다.\n",
    "list_=[\"j,u,n,e\"]\n",
    "list_.extend(\"soo\")\n",
    "print(list_)"
   ]
  },
  {
   "cell_type": "markdown",
   "metadata": {},
   "source": [
    "#### 덧셈연산 / slicing 연산\n",
    "- 리스트의 append() 메서드는 원소가 추가되는 곳이 정해져있다.\n",
    "- slicing 하고 중간에 어떤 리스트를 새로 추가하고 싶을때는 덧셈연산을 사용할 수 있다."
   ]
  },
  {
   "cell_type": "code",
   "execution_count": 20,
   "metadata": {},
   "outputs": [
    {
     "name": "stdout",
     "output_type": "stream",
     "text": [
      "[1, 2, 3, 4, 5, 6, 7, 8, 9]\n"
     ]
    }
   ],
   "source": [
    "# 해당 arr 를 [1,2,3,4,5,6,7,8,9] 로 바꾸려 한다.\n",
    "arr = [1,2,3,7,8,9,4,5,6]\n",
    "\n",
    "# arr1_ slicing 연산\n",
    "arr1_ = arr[0:3] # 0~2 까지 필요하다. 두번째 오는수는 하나를 내린다.\n",
    "arr2_ = arr[6:]\n",
    "arr3_ = arr[3:6]\n",
    "\n",
    "# 자유롭게 순서대로 더할 수 있다.\n",
    "result = arr1_ + arr2_ + arr3_\n",
    "print(result)\n"
   ]
  },
  {
   "cell_type": "markdown",
   "metadata": {},
   "source": [
    "#### swaping 연산\n",
    "- list내부의 원소의 자리를 바꾸고 싶을때 새로운 할당 없이 swap 가능하다."
   ]
  },
  {
   "cell_type": "code",
   "execution_count": 23,
   "metadata": {},
   "outputs": [
    {
     "name": "stdout",
     "output_type": "stream",
     "text": [
      "[1, 2, 3, 4]\n",
      "[1, 2, 3, 4]\n"
     ]
    }
   ],
   "source": [
    "# temp 라는 변수 생성\n",
    "list_ = [1,3,2,4]\n",
    "temp = list_[2]\n",
    "list_[2] = list_[1]\n",
    "list_[1] = temp\n",
    "print(list_)\n",
    "\n",
    "# temp 변수 생성 없이 swapping\n",
    "list_ = [1,3,2,4]\n",
    "list_[2], list_[1] = list_[1], list_[2]\n",
    "print(list_)\n",
    "\n"
   ]
  },
  {
   "cell_type": "markdown",
   "metadata": {},
   "source": [
    "# 2. sort() method\n",
    "```python\n",
    "list.sort(\n",
    "    key:object = function\n",
    "    reverce:bool\n",
    ")\n",
    "```\n",
    "- sorted() 함수와 방법은 비슷하지만 list 전용 메서드이다.\n",
    "- list가 저장된 heap을 참조하는 inplace 함수이다.\n",
    "\n",
    "- 2차원 배열을 정렬할때 많이 사용한다 ..! `key` 사용법은 sorted와 동일"
   ]
  },
  {
   "cell_type": "code",
   "execution_count": 24,
   "metadata": {},
   "outputs": [
    {
     "name": "stdout",
     "output_type": "stream",
     "text": [
      "[1, 2, 3, 4]\n"
     ]
    }
   ],
   "source": [
    "# 기본적인 사용방법\n",
    "list_ = [1,3,2,4]\n",
    "list_.sort()\n",
    "print(list_)"
   ]
  },
  {
   "cell_type": "code",
   "execution_count": 26,
   "metadata": {},
   "outputs": [
    {
     "name": "stdout",
     "output_type": "stream",
     "text": [
      "[[0, 4], [1, 2], [7, 9]]\n",
      "[[1, 2], [0, 4], [7, 9]]\n"
     ]
    }
   ],
   "source": [
    "# 2차원 리스트 정렬\n",
    "list_ = [[1,2],[0,4],[7,9]]\n",
    "\n",
    "# 첫번째 인덱스를 기준으로 sorting\n",
    "list_.sort(key = lambda x : x[0])\n",
    "print(list_)\n",
    "\n",
    "# 첫번째 인덱스를 기준으로 sorting한 list를 두번째 인덱스를 기준으로 sorting\n",
    "list_.sort(key= lambda x : x[1])\n",
    "print(list_)"
   ]
  },
  {
   "cell_type": "code",
   "execution_count": 28,
   "metadata": {},
   "outputs": [
    {
     "name": "stdout",
     "output_type": "stream",
     "text": [
      "[[1, 2], [1, 5], [2, 9], [5, 6], [5, 5], [8, 3]]\n",
      "[[1, 2], [1, 5], [2, 9], [5, 5], [5, 6], [8, 3]]\n"
     ]
    }
   ],
   "source": [
    "# 주어진 리스트의 순서대로 확인한다.\n",
    "list_ = [[1,2],[8,3],[2,9],[5,6],[1,5],[5,5]]\n",
    "list_.sort(key = lambda x:x[0])\n",
    "print(list_)\n",
    "\n",
    "list_ = [[1,2],[8,3],[2,9],[5,6],[1,5],[5,5]]\n",
    "# 1순위로 첫번째 인덱스, 첫번째 인덱스 비교가 안된다면 두번째 인덱스를 참조\n",
    "list_.sort(key= lambda x:(x[0],x[1]))\n",
    "print(list_)"
   ]
  },
  {
   "cell_type": "markdown",
   "metadata": {},
   "source": [
    "# 3. 큐\n",
    "- 선입 선출되는 자료구조이다.\n",
    "- collections 모듈을 사용한다.\n",
    "- 일반 리스트로 구현시 popleft() 대신 pop(0) (0번 인덱스를 pop)으로 구현 가능하다."
   ]
  },
  {
   "cell_type": "code",
   "execution_count": 40,
   "metadata": {},
   "outputs": [
    {
     "name": "stdout",
     "output_type": "stream",
     "text": [
      "deque([3, 4])\n",
      "deque([3])\n",
      "deque([5, 6])\n"
     ]
    }
   ],
   "source": [
    "from collections import deque\n",
    "queue = deque()\n",
    "queue.append(3)\n",
    "queue.append(4)\n",
    "print(queue) # [3,4]\n",
    "\n",
    "queue.pop() # 후입된 값을 pop하고 리턴\n",
    "print(queue) # [3]\n",
    "\n",
    "queue.append(5)\n",
    "queue.append(6)\n",
    "\n",
    "queue.popleft() # 선입된 값을 pop 하고 리턴\n",
    "print(queue) # [5,6]"
   ]
  },
  {
   "cell_type": "markdown",
   "metadata": {},
   "source": [
    "# 4. 2차원 배열\n",
    "\n",
    "- 간선 리스트를 입력받아 그래프를 작성할 수 있다. \n",
    "- 그래프는 2차원 배열로 구현된다."
   ]
  },
  {
   "cell_type": "code",
   "execution_count": 44,
   "metadata": {},
   "outputs": [
    {
     "name": "stdout",
     "output_type": "stream",
     "text": [
      "[[], [], [1, 5], [2, 2, 4, 4], [3, 2, 3, 5, 6], [4, 1, 2, 4], [5, 4]]\n"
     ]
    },
    {
     "data": {
      "text/plain": [
       "'\\nnode = int(input())+1 # dummy node\\nedge = int(input()) # 간선수\\ngraph = [[] for _ in range(node)] # 그래프 초기화\\nfor i in range(edge):\\n    n,m = map(int, input().split())\\n    graph[n] += [m]\\n    graph[m] += [n]\\nprint(graph)\\n'"
      ]
     },
     "execution_count": 44,
     "metadata": {},
     "output_type": "execute_result"
    }
   ],
   "source": [
    "# 간선리스트와 그래프\n",
    "node = 7 # 1 ~ 6번 노드\n",
    "graph = [[] for _ in range(node)]\n",
    "edge = [(1, 2), (1, 5), (2, 1), (2, 3),\n",
    "        (2, 4), (2, 5), (3, 2), (3, 4),\n",
    "        (3, 4), (4, 2), (4, 3), (4, 5), \n",
    "        (4, 6), (5, 1), (5, 2), (5, 4), (6, 4)] # 간선정보\n",
    "for u,v in edge:\n",
    "    graph[u].append(v)\n",
    "    graph.sort()\n",
    "print(graph)\n",
    "\"\"\"\n",
    "node = int(input())+1 # dummy node\n",
    "edge = int(input()) # 간선수\n",
    "graph = [[] for _ in range(node)] # 그래프 초기화\n",
    "for i in range(edge):\n",
    "    n,m = map(int, input().split())\n",
    "    graph[n] += [m]\n",
    "    graph[m] += [n]\n",
    "print(graph)\n",
    "\"\"\""
   ]
  },
  {
   "cell_type": "code",
   "execution_count": 45,
   "metadata": {},
   "outputs": [
    {
     "name": "stdout",
     "output_type": "stream",
     "text": [
      "[[1, 1, 1], [0, 1, 0], [0, 0, 0]]\n"
     ]
    }
   ],
   "source": [
    "# 2차원 배열 반전 함수(3x3 행렬)\n",
    "my_arr = [[0,0,0],[1,0,1],[1,1,1]]\n",
    "def change(arr:list,l=0,m=0):\n",
    "    # 특정 행에 대해서\n",
    "    for x in range(l+3):\n",
    "        # 해당 행의 원소들 (특정 행열) 을 모두 확인\n",
    "        for y in range(m+3):\n",
    "            if arr[x][y] == 0:\n",
    "                arr[x][y] =1\n",
    "            else:\n",
    "                arr[x][y] =0\n",
    "change(my_arr)\n",
    "print(my_arr)"
   ]
  }
 ],
 "metadata": {
  "kernelspec": {
   "display_name": "Python 3",
   "language": "python",
   "name": "python3"
  },
  "language_info": {
   "codemirror_mode": {
    "name": "ipython",
    "version": 3
   },
   "file_extension": ".py",
   "mimetype": "text/x-python",
   "name": "python",
   "nbconvert_exporter": "python",
   "pygments_lexer": "ipython3",
   "version": "3.12.7"
  }
 },
 "nbformat": 4,
 "nbformat_minor": 2
}
