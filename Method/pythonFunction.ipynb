{
 "cells": [
  {
   "cell_type": "markdown",
   "metadata": {},
   "source": [
    "# 1. sorted()\n",
    "```python\n",
    "sorted(iterable:iterable, key:function_object, reverse:bool)\n",
    "->sorting_object\n",
    "```\n",
    "- 주로 `딕셔너리`정렬시 사용한다.\n",
    "- sort()와 달리 inplace 함수가 아니라 메모리를 추가로 사용한다.\n",
    "\n",
    "- `key` 파라미터에는 함수가 전달되고, 리턴되는 값을 기준으로 `iterable`객체를 정렬한다."
   ]
  },
  {
   "cell_type": "code",
   "execution_count": 34,
   "metadata": {},
   "outputs": [
    {
     "name": "stdout",
     "output_type": "stream",
     "text": [
      "[1, 2, 4, 3, 6, 5]\n",
      "[5, 6, 3, 4, 2, 1]\n",
      "[(6, 'dessert'), (5, 'early'), (4, 'banana'), (3, 'carrot'), (2, 'avocado'), (1, 'apple')]\n",
      "[(5, 'early'), (6, 'dessert'), (3, 'carrot'), (4, 'banana'), (2, 'avocado'), (1, 'apple')]\n"
     ]
    }
   ],
   "source": [
    "# 딕셔너리 정렬시\n",
    "list_1 = {1:\"apple\",2:\"avocado\",3:\"carrot\",4:\"banana\",5:\"early\",6:\"dessert\"}\n",
    "\n",
    "# iterable한 딕셔너리의 키가 key의 함수의 인자로 전달된다. **\n",
    "# key함수에서 리턴되는 값은 딕셔너리의 벨류이다.\n",
    "a = sorted(list_1.keys(), key= lambda x:list_1[x]) # key() 메서드 안써도 동일\n",
    "print(a)\n",
    "b = sorted(list_1, key= lambda x:list_1[x], reverse= True)\n",
    "print(b)\n",
    "c = sorted(list_1.items(), key = lambda x:x[0], reverse=True)\n",
    "print(c)\n",
    "d = sorted(list_1.items(), key = lambda x:x[1], reverse=True)\n",
    "print(d)\n"
   ]
  },
  {
   "cell_type": "code",
   "execution_count": 6,
   "metadata": {},
   "outputs": [
    {
     "name": "stdout",
     "output_type": "stream",
     "text": [
      "[{'name': 'yang', 'age': '22'}, {'name': 'zbok', 'age': '0'}]\n",
      "[{'name': 'zbok', 'age': '0'}, {'name': 'yang', 'age': '22'}]\n"
     ]
    }
   ],
   "source": [
    "# 리스트의 원소가 딕셔너리인 객체 정렬시\n",
    "list_2 = [{\"name\":\"zbok\",\"age\":\"0\"},{\"name\":\"yang\",\"age\":\"22\"}] # 리스트의 원소인 딕셔너리가 인자로 전달\n",
    "a = sorted(list_2, key=lambda x: x[\"name\"]) # 딕셔너리의 키로 벨류를 리턴턴\n",
    "print(a)\n",
    "b = sorted(list_2, key=lambda x: x[\"age\"])\n",
    "print(b)\n"
   ]
  },
  {
   "cell_type": "code",
   "execution_count": 23,
   "metadata": {},
   "outputs": [
    {
     "name": "stdout",
     "output_type": "stream",
     "text": [
      "[(3, 'g'), (1, 'h'), (5, 'h'), (7, 'w'), (2, 'w')]\n",
      "[{'A': 4, 'B': 6}, {'H': 3, 'Z': 7}, {'E': 3, 'C': 3}]\n"
     ]
    }
   ],
   "source": [
    "# 딕셔너리의 키아닌 튜플로 인자 전달 - 키가 모두 다른경우\n",
    "list_3 = {1:\"h\",3:\"g\",5:\"h\",7:\"w\",2:\"w\"}\n",
    "a = sorted(list_3.items(), key = lambda x : x[1])\n",
    "print(a)\n",
    "\n",
    "# 딕셔너리를 새로 만들어야 함\n",
    "list_4 = [{\"A\":4,\"B\":6},{\"Z\":7,\"H\":3},{\"E\":3,\"C\":3}]\n",
    "sorted_arr = [dict(sorted(list(_.items()), key=lambda x: (x[1],x[0]))) for _ in list_4]\n",
    "print(sorted_arr)"
   ]
  },
  {
   "cell_type": "markdown",
   "metadata": {},
   "source": [
    "# 2. filter()\n",
    "\n",
    "```python\n",
    "class filter(\n",
    "    function: 실행할 함수 \n",
    "    iterable: iterable한 객체\n",
    ") -> filter_object\n",
    "```\n",
    "\n",
    "- `filter()` 함수는 `parameter`로 작용한 `function`의 결과가 참거짓인지에 따라 filter 객체에 포함시킬지 안시킬지를 결정한다.\n",
    "\n"
   ]
  },
  {
   "cell_type": "code",
   "execution_count": 19,
   "metadata": {},
   "outputs": [
    {
     "name": "stdout",
     "output_type": "stream",
     "text": [
      "[2, 4, 6, 8, 10, 12, 14, 16, 18, 20, 22, 24, 26, 28, 30, 32, 34, 36, 38, 40, 42, 44, 46, 48, 50, 52, 54, 56, 58, 60, 62, 64, 66, 68, 70, 72, 74, 76, 78, 80, 82, 84, 86, 88, 90, 92, 94, 96, 98, 100]\n"
     ]
    }
   ],
   "source": [
    "# \n",
    "a = list(range(1,101)) # 1~ 100까지의 정수\n",
    "\n",
    "def even(i):\n",
    "    if i % 2==0:\n",
    "        return i\n",
    "filter_ = list(filter(even, a)) # 1~100까지 정수를 even함수에 전달하고 리턴된 값을 true로 확인한다\n",
    "print(filter_)"
   ]
  },
  {
   "cell_type": "code",
   "execution_count": 20,
   "metadata": {},
   "outputs": [
    {
     "name": "stdout",
     "output_type": "stream",
     "text": [
      "[None, 2, None, 4, None, 6, None, 8, None, 10, None, 12, None, 14, None, 16, None, 18, None, 20, None, 22, None, 24, None, 26, None, 28, None, 30, None, 32, None, 34, None, 36, None, 38, None, 40, None, 42, None, 44, None, 46, None, 48, None, 50, None, 52, None, 54, None, 56, None, 58, None, 60, None, 62, None, 64, None, 66, None, 68, None, 70, None, 72, None, 74, None, 76, None, 78, None, 80, None, 82, None, 84, None, 86, None, 88, None, 90, None, 92, None, 94, None, 96, None, 98, None, 100]\n"
     ]
    }
   ],
   "source": [
    "# 위의 예시에서 map과는 차이가 나타난다.\n",
    "map_ = list(map(even,a))\n",
    "print(map_)"
   ]
  },
  {
   "cell_type": "markdown",
   "metadata": {},
   "source": [
    "# 3. map()\n",
    "\n",
    "```python\n",
    "class map(\n",
    "    fuction: iterable의 모든 원소를 받아 리턴한 값으로 대체한다\n",
    "    iterable:\n",
    ")\n",
    "```\n",
    "\n",
    "- 모든 `map()` 함수는 `for`문으로 치환가능하다."
   ]
  },
  {
   "cell_type": "code",
   "execution_count": 22,
   "metadata": {},
   "outputs": [
    {
     "name": "stdout",
     "output_type": "stream",
     "text": [
      "[4, 16, 36, 64, 100, 144, 196, 256, 324, 400]\n"
     ]
    }
   ],
   "source": [
    "a = [2, 4, 6, 8, 10, 12, 14, 16, 18, 20]\n",
    "\n",
    "# a의 원소들을 모두 제곱하여 변환한 값을 map 객체에 저장하고 list로 형변환한다.\n",
    "map_1 = list(map(lambda x : x ** 2, a))\n",
    "\n",
    "print(map_1)"
   ]
  },
  {
   "cell_type": "code",
   "execution_count": 23,
   "metadata": {},
   "outputs": [
    {
     "name": "stdout",
     "output_type": "stream",
     "text": [
      "[4, 16, 36, 64, 100, 144, 196, 256, 324, 400]\n"
     ]
    }
   ],
   "source": [
    "# map함수는 결국 내부적으로 for문을 돌려주는 함수이다.\n",
    "map_2 = []\n",
    "for elt in a:\n",
    "    map_2.append(elt**2)\n",
    "print(map_2)"
   ]
  },
  {
   "cell_type": "markdown",
   "metadata": {},
   "source": [
    "# 4. input()\n",
    "```python\n",
    "def input(\n",
    "    prompt: object= \"\",\n",
    ") -> str\n",
    "```\n",
    "- 기본적으로 `input()` 함수는 입력받은 변수를 문자열로 리턴한다."
   ]
  },
  {
   "cell_type": "code",
   "execution_count": 25,
   "metadata": {},
   "outputs": [
    {
     "name": "stdout",
     "output_type": "stream",
     "text": [
      "hi\n"
     ]
    }
   ],
   "source": [
    "# input은 기본적으로 문자열을 입력받는다.\n",
    "a = input()\n",
    "print(a)"
   ]
  },
  {
   "cell_type": "code",
   "execution_count": 26,
   "metadata": {},
   "outputs": [
    {
     "name": "stdout",
     "output_type": "stream",
     "text": [
      "bok june soo\n",
      "hello world\n"
     ]
    }
   ],
   "source": [
    "# 여러 문자를 입력받고 각각을 객체에 저장하고 싶으면 다음을 활용한다.\n",
    "a, b, c =\"bok june soo\".split()\n",
    "print(a,b,c)\n",
    "\n",
    "a, b = input().split() # 한줄에 입력 받는다.\n",
    "print(a,b)"
   ]
  },
  {
   "cell_type": "code",
   "execution_count": 27,
   "metadata": {},
   "outputs": [
    {
     "name": "stdout",
     "output_type": "stream",
     "text": [
      "<class 'int'>\n",
      "1 2 <class 'int'>\n"
     ]
    }
   ],
   "source": [
    "# 입력받은 값을 바로 변환하기 isdigit() true 만 가능하다.\n",
    "a = int(input())\n",
    "print(type(a))\n",
    "\n",
    "a, b = map(int,input().split())\n",
    "print(a,b,type(a))"
   ]
  },
  {
   "cell_type": "code",
   "execution_count": 29,
   "metadata": {},
   "outputs": [
    {
     "name": "stdout",
     "output_type": "stream",
     "text": [
      "[1, 2, 3]\n"
     ]
    }
   ],
   "source": [
    "# 1차원 배열 입력받기\n",
    "list_ = list(map(int, input().split())) # 입력 : 1 2 3\n",
    "print(list_) # 출력 : [1,2,3]"
   ]
  },
  {
   "cell_type": "code",
   "execution_count": null,
   "metadata": {},
   "outputs": [
    {
     "name": "stdout",
     "output_type": "stream",
     "text": [
      "['BOKJUNSOO', 'YANGJUDY', 'HI']\n"
     ]
    }
   ],
   "source": [
    "# 문자열 여러줄 입력받고 리스트 컴프리헨션\n",
    "n = int(input())\n",
    "s_list = [input() for _ in range(n)]\n",
    "print(s_list)"
   ]
  },
  {
   "cell_type": "code",
   "execution_count": 46,
   "metadata": {},
   "outputs": [
    {
     "name": "stdout",
     "output_type": "stream",
     "text": [
      "[[1, 2, 3, 4], [5, 6, 7, 8], [9, 1, 0, 2]]\n",
      "[[1, 2, 3, 4], [5, 6, 7, 8], [9, 10, 11, 12]]\n"
     ]
    }
   ],
   "source": [
    "# 2차원 배열 입력받기\n",
    "# 리스트 자체가 입력!\n",
    "row = 3\n",
    "col = 4\n",
    "matrix= [[None] * col for _ in range(row)] # 2차원 배열 초기화\n",
    "\n",
    "# 한 셸에 한자리 숫자\n",
    "for i in range(row):\n",
    "    matrix[i] = list(map(int, input())) #입력 1234 / 5678/ 9102\n",
    "print(matrix) # 한 셀에 한자릿수만 입력된다. + dinamic array\n",
    "\n",
    "# 한 셸에 n 자리 숫자 (입력시 띄어쓰기 필요)\n",
    "matrix= [[None] * col for _ in range(row)]\n",
    "for i in range(row):\n",
    "    matrix[i] = list(map(int, input().split())) # 입력 1 2 3 4 / 5 6 7 8/ 9 10 11 12\n",
    "print(matrix)\n",
    "\n",
    "\n",
    "    "
   ]
  },
  {
   "cell_type": "markdown",
   "metadata": {},
   "source": [
    "# enumerate()\n",
    "```python\n",
    "enumerate(\n",
    "    iterable,\n",
    "    start\n",
    ") -> return enumerate object\n",
    "```\n",
    "\n",
    "# 리스트를 키벨류쌍처럼"
   ]
  },
  {
   "cell_type": "code",
   "execution_count": 3,
   "metadata": {},
   "outputs": [
    {
     "name": "stdout",
     "output_type": "stream",
     "text": [
      "1\n",
      "2\n",
      "3\n",
      "14\n",
      "12\n",
      "4\n",
      "['1', '2', '3']\n",
      "['4', '5', '6']\n",
      "['7', '8', '9']\n",
      "['*', '0', '#']\n"
     ]
    }
   ],
   "source": [
    "arr_=[1,2,3,14,12,4]\n",
    "enu_=enumerate(arr_)\n",
    "for idx, r in enu_:\n",
    "    print(r)\n",
    "for i in enu_:\n",
    "    print(i)\n",
    "\n",
    "matrix=[\n",
    "        ['1','2','3'],\n",
    "        ['4','5','6'],\n",
    "        ['7','8','9'],\n",
    "        ['*','0','#']\n",
    "    ]\n",
    "for idx, r in enumerate(matrix):\n",
    "    print(r)"
   ]
  },
  {
   "cell_type": "code",
   "execution_count": null,
   "metadata": {},
   "outputs": [],
   "source": []
  }
 ],
 "metadata": {
  "kernelspec": {
   "display_name": "Python 3",
   "language": "python",
   "name": "python3"
  },
  "language_info": {
   "codemirror_mode": {
    "name": "ipython",
    "version": 3
   },
   "file_extension": ".py",
   "mimetype": "text/x-python",
   "name": "python",
   "nbconvert_exporter": "python",
   "pygments_lexer": "ipython3",
   "version": "3.12.7"
  }
 },
 "nbformat": 4,
 "nbformat_minor": 2
}
