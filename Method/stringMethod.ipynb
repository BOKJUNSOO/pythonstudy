{
 "cells": [
  {
   "cell_type": "markdown",
   "metadata": {},
   "source": [
    "#### 문자열 메서드\n",
    "\n",
    "- 문자열은 기본적으로 Imutable 하기 때문에 `인덱스로 값 할당`이 불가능하다.\n",
    "    - 따라서 slicing 하고, 더해주는 연산을 필요로 한다.\n",
    "    - 또한 메서드를 두루알고 있는 것이 유용하다.\n",
    "    - iterable 한 자료형 이므로 for 문으로 참조하는 것이 유용하다"
   ]
  },
  {
   "cell_type": "code",
   "execution_count": null,
   "metadata": {},
   "outputs": [],
   "source": [
    "# 문자열 메서드 예시\n",
    "\n",
    "# 1. lower()\n",
    "s = \"Hello\"\n",
    "print(s.lower())  # 출력: \"hello\"\n",
    "\n",
    "# 2. upper()\n",
    "print(s.upper())  # 출력: \"HELLO\"\n",
    "\n",
    "# 3. strip()\n",
    "s_with_spaces = \"  Hello  \"\n",
    "print(s_with_spaces.strip())  # 출력: \"Hello\"\n",
    "\n",
    "# 4. replace()\n",
    "s = \"Hello World\"\n",
    "print(s.replace(\"World\", \"Python\"))  # 출력: \"Hello Python\"\n",
    "\n",
    "# 5. split()\n",
    "print(s.split(\" \"))  # 출력: [\"Hello\", \"World\"]\n",
    "\n",
    "# 6. join()\n",
    "words = [\"Hello\", \"World\"]\n",
    "print(\", \".join(words))  # 출력: \"Hello, World\"\n",
    "\n",
    "# 7. find()\n",
    "print(s.find(\"e\"))  # 출력: 1\n",
    "\n",
    "# 8. count()\n",
    "print(s.count(\"l\"))  # 출력: 3\n",
    "\n",
    "# 9. startswith()\n",
    "print(s.startswith(\"He\"))  # 출력: True\n",
    "\n",
    "# 10. endswith()\n",
    "print(s.endswith(\"lo\"))  # 출력: True\n",
    "\n",
    "# 11. capitalize()\n",
    "print(\"hello\".capitalize())  # 출력: \"Hello\"\n",
    "\n",
    "# 12. title()\n",
    "print(\"hello world\".title())  # 출력: \"Hello World\"\n",
    "\n",
    "# 13. isdigit()\n",
    "print(\"123\".isdigit())  # 출력: True\n",
    "\n",
    "# 14. isalpha()\n",
    "print(\"abc\".isalpha())  # 출력: True"
   ]
  },
  {
   "cell_type": "code",
   "execution_count": 2,
   "metadata": {},
   "outputs": [
    {
     "name": "stdout",
     "output_type": "stream",
     "text": [
      "b\n",
      "o\n",
      "k\n",
      " \n",
      "J\n",
      "u\n",
      "n\n",
      "e\n",
      " \n",
      "S\n",
      "o\n",
      "o\n"
     ]
    }
   ],
   "source": [
    "# 문자열을 iterable 한 자료형이다\n",
    "# for 루프로 참조가 가능하다.\n",
    "string_ = \"bok June Soo\"\n",
    "for i in string_:\n",
    "    print(i)"
   ]
  },
  {
   "cell_type": "code",
   "execution_count": 3,
   "metadata": {},
   "outputs": [
    {
     "data": {
      "text/plain": [
       "'bok June Soo'"
      ]
     },
     "execution_count": 3,
     "metadata": {},
     "output_type": "execute_result"
    }
   ],
   "source": [
    "string_.strip()"
   ]
  }
 ],
 "metadata": {
  "kernelspec": {
   "display_name": "Python 3",
   "language": "python",
   "name": "python3"
  },
  "language_info": {
   "codemirror_mode": {
    "name": "ipython",
    "version": 3
   },
   "file_extension": ".py",
   "mimetype": "text/x-python",
   "name": "python",
   "nbconvert_exporter": "python",
   "pygments_lexer": "ipython3",
   "version": "3.12.7"
  }
 },
 "nbformat": 4,
 "nbformat_minor": 2
}
