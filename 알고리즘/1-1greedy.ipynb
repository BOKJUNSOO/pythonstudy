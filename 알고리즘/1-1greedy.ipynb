{
 "cells": [
  {
   "cell_type": "markdown",
   "metadata": {},
   "source": [
    "Greedy Argorithm\n",
    " - 현재 상황에서 ***지금 당장 좋은 것만*** 고르는 방법\n",
    " - 그리디 알고리즘은 문제를 풀기 위한 최소한의 아이디어를 떠올릴 수 있는 능력을 요구한다.\n",
    " - 정당성 분석이 중요! (단순히 가장 좋아 보이는 것을 반복적으로 선택해도 최적의 해를 구할 수 있는가?)\n",
    " - 일반적인 상황에서는 최적의 해를 보장할 수 없을 때가 많다.\n",
    "    >> 하지만 탐욕법으로 얻은 해가 최적의 해가 되는 상황에서 이를 추론할 수 있도록 풀린다.\n",
    "- 거스름 돈: 문제해결 아이디어\n",
    "    - 정당성 분석 : 가장 큰 화페부터 주어야 하는 이유?\n",
    "    -  가지고 있는 동전 중에서 큰 단위가 항상 작은 단위의 배수이므로 작은 단위의 동전들을 종합해 다른 해가 나올 수 없기 때문.\n",
    "    "
   ]
  },
  {
   "cell_type": "code",
   "execution_count": null,
   "metadata": {},
   "outputs": [],
   "source": [
    "# 복잡도 O(K) 화폐의 갯수\n",
    "N = int(input())\n",
    "list = [500,100,50,10]\n",
    "coin = 0\n",
    "for i in list:  # 복잡도 O(K) 화폐의 갯수 FOR 루프 도는 횟수\n",
    "    count = N // i # 나눈 몫\n",
    "    coin += count # 갯수 합계 # count가 coin 으로 바뀌면 스택꼬임 주의\n",
    "    N = N % i\n",
    "print(coin)"
   ]
  },
  {
   "cell_type": "markdown",
   "metadata": {},
   "source": [
    "- 어떠한 수 N이 1이 될때까지 다음의 두 과정중 하나를 반복적으로 선택하여 수행하려고 합니다. 단 두번째 연산은 N이 K로 나누어 떨어질 때만 선택할 수 있습니다.\n",
    "    1) n에서 1을 뺍니다\n",
    "    2) n을 k로 나눕니다.\n",
    "- 예를 들어 n이 17 k 가 4라고 가정합니다. 이때 1번의 과정을 한번 수행하면 n은 16이 됩니다. 이후에 2번의 과정을 두 번 수행하면 n은 1이 됩니다. 결과적으로 이 경우 전체 과정을 실행한 횟수는 3이됩니다. 이는 n을 1로 만드는 최소 횟수입니다.\n",
    "- n과 k가 주어질 때 n이 1이 될 때까지 1번 혹은 2번의 과정을 수행해야 하는 최소 횟수를 구하는 프로그램을 작성하세요.\n",
    ">> 입력조건 첫째 줄에 N과 K가 공백을 기준으로 하여 각각 자연수로 주어집니다\n",
    "\n",
    ">> 첫째 줄에 N이 1이 될 때까지 1번 혹은 2번의 과정을 수행해야 하는 횟수의 최솟값을 출력합니다.\n",
    "- 주어진 N에 대하여 최대한 많이 나누기를 수행하면 된다.\n",
    "- N의 값을 줄일 때 2 이상의 수로 나누는 작업이 1을 빼는 작업보다 수를 줄일 수 있다"
   ]
  },
  {
   "cell_type": "code",
   "execution_count": 31,
   "metadata": {},
   "outputs": [
    {
     "name": "stdout",
     "output_type": "stream",
     "text": [
      "6\n"
     ]
    }
   ],
   "source": [
    "N, K = map(int, input().split())\n",
    "count = 0\n",
    "while N > 1:    # 1이 될동안 while 문 진행\n",
    "    if N%K == 0:\n",
    "        N = N//K\n",
    "        count += 1\n",
    "    else:\n",
    "        N = N-1\n",
    "        count += 1\n",
    "print(count)\n",
    "    "
   ]
  },
  {
   "cell_type": "code",
   "execution_count": null,
   "metadata": {},
   "outputs": [],
   "source": [
    "# Source Code (로그 시간 복잡도)\n",
    "n,k = map(int, input().split())\n",
    "result = 0\n",
    "while True:\n",
    "    # n이 k로 나누어 떨어지는 수가 될 때까지 빼기\n",
    "    target = (n//k) * k \n",
    "    result += (n- target)\n",
    "    n = target\n",
    "    # n이 k보다 작을 때 (더 이상 나눌 수 없을 때) 반복문 탈출\n",
    "    if n<k:\n",
    "        break\n",
    "    result +=1\n",
    "    n //= K\n",
    "# 마지막으로 남은 수에 대하여 1씩 빼기\n",
    "result +=(n-1)\n",
    "print(result)"
   ]
  },
  {
   "cell_type": "markdown",
   "metadata": {},
   "source": [
    "- 각 자리가 숫자로만 이루어진 문자열 S가 주어졌을 때, 왼쪽부터 오른쪽으로 하나씩 모든 숫자를 확인하며 숫자 사이에 \"x\" 혹은 \"+\" 연산자를 넣어 결과적으로 만들어질 수 있는 가장 큰 수를 구하는 프로그램을 작성하시오.\n",
    "\n",
    "- 단, + 보다 x를 먼저 계산하는 일반적인 방식과는 달리, 모든 연산은 왼쪽에서부터 순서대로 이루어진다고 가정합니다.\n",
    "\n",
    "- 예를 들어 02984라는 문자열로 만들수 있는 가장 큰 수는 576 입니다.\n",
    "\n",
    ">> 입력조건 첫째 줄에 여러개의 숫자로 구성된 하나의 문자열 S가 주어집니다.\n",
    "\n",
    ">> 출력조건 첫째 줄에 만들어질 수 있는 가장 큰 수를 출력합니다.\n",
    "\n",
    "- 대부분의 경우 + 보다는 x 가 더 값을 크게 만듭니다.\n",
    "- 예외 : 두 수중에서 하나라도 0 혹은 1인경우 곱하기보다는 더하기를 수행하는 것이 수를 크게 만든다.\n"
   ]
  },
  {
   "cell_type": "code",
   "execution_count": null,
   "metadata": {},
   "outputs": [
    {
     "name": "stdout",
     "output_type": "stream",
     "text": [
      "210\n"
     ]
    }
   ],
   "source": [
    "# wrong answer\n",
    "s = input()\n",
    "result = 1\n",
    "if \"0\" in s:\n",
    "    s = s.replace(\"0\",\"1\")\n",
    "    for i in range(len(s)):\n",
    "        result *= int(s[i])\n",
    "else:\n",
    "    for i in range(len(s)):\n",
    "        result *= int(s[i])\n",
    "print(result)"
   ]
  },
  {
   "cell_type": "code",
   "execution_count": null,
   "metadata": {},
   "outputs": [
    {
     "name": "stdout",
     "output_type": "stream",
     "text": [
      "24\n"
     ]
    }
   ],
   "source": [
    "s = input()\n",
    "result = int(s[0])\n",
    "for i in range(1, len(s)):  # 루프 범위\n",
    "    if s[i] == \"0\" or s[i] ==\"1\":\n",
    "        result += int(s[i])\n",
    "    else:\n",
    "        result *= int(s[i])\n",
    "print(result)\n",
    "\n"
   ]
  },
  {
   "cell_type": "markdown",
   "metadata": {},
   "source": [
    "- 한 마을에 모험가가 N명 있습니다. 모험가 길드에서는 n명의 모험가를 대상으로 \"공포도\"를 측정했는데, \"공포도\"가 높은 모험가는 쉽게 공포를 느껴 위험 상황에서 제대로 대처할 능력이 떨어집니다.\n",
    "- 모험가 길드장인 동빈이는 모험가 그룹을 안전하게 구성하고자 공포도가 x인 모험가는 반드시 x명이상으로 구성한 모험가 그룹에 참여해야 여행을 떠날 수 있도록 규정했습니다.\n",
    "- 동빈이는 최대 몇 개의 모험가 그룹을 만들 수 있는지 궁금합니다. n명의 모험가에 대한 정보가 주어졌을 때, 여행을 떠날 수 있는 그룹 수의 최댓값을 구하는 프로그램을 작성하시오.\n",
    "\n",
    "    - n = 5이고, 각 모험가의 공포도가 다음과 같다고 가정합니다 2,3,1,2,2\n",
    "    - 이 경우 그룹 1에 공포도가 1,2,3인 모험가를 한명 씩 넣고, 그룹 2에 공포도가 2인 남은 두명을 넣게 되면 총 2개의 그룹을 만들 수 있습니다.\n",
    "    - 또한 몇 명의 모험가는 마을에 그대로 남아 있어도 되기 때문에, 모든 모험가를 특정한 그룹에 넣을 필요는 없습니다.\n",
    "\n",
    ">> 입력조건 : \n",
    "    1) 첫째 줄에 모험가의 수 n이 주어집니다.\n",
    "    2) 둘째 줄에 모험가의 공포도의 값을 n 이하의 자연수로 주어지며, 각 자연수는 공백으로 구분합니다\n",
    "\n",
    ">> 출력조건 : 여행을 떠날 수 있는 그룹수의 최댓값을 출력합니다.\n"
   ]
  },
  {
   "cell_type": "code",
   "execution_count": null,
   "metadata": {},
   "outputs": [
    {
     "name": "stdout",
     "output_type": "stream",
     "text": [
      "[1, 3, 5]\n"
     ]
    }
   ],
   "source": [
    "n = int(input())\n",
    "num_list = list(map(int, input().split())) # 리스트 입력받기\n",
    "num_list.sort()\n",
    "result = 0 # 총 그룹의 수\n",
    "count = 0 # 현재 그룹에 포함된 모험가의 수\n",
    "\n",
    "for i in num_list:\n",
    "    count += 1 # 현재 i 에 대하여 모험가를 그룹으로 구성하기\n",
    "    if count >= i: # 현재 i 에 대하여 모험가의 수가 공포도 이상이라면, 그룹 결성\n",
    "        result += 1 # 그룹의 수 증가\n",
    "        count = 0 # 모험가의 수 초기화\n",
    "print(result)\n"
   ]
  },
  {
   "cell_type": "code",
   "execution_count": null,
   "metadata": {},
   "outputs": [],
   "source": [
    "# greedy\n",
    "# 끝나는 시간으로 우선 배열을 한다 (왜? 일찍 끝나야 다음 회의를 또 집어넣을 수 있다)\n",
    "class Solution:\n",
    "    def room(self,N:int)->int:\n",
    "        # 2차원 배열 초기화\n",
    "        time = [[0]*2 for _ in range(N)]\n",
    "        for i in range(N):\n",
    "            a, b = map(int, input().split())\n",
    "            # 2차원 배열 설정    \n",
    "            time[i][0] = a\n",
    "            time[i][1] = b\n",
    "        # 2차원 배열 sorting\n",
    "        time.sort(key = lambda x:(x[1],x[0]))\n",
    "        cnt = 1\n",
    "        end_time = time[0][1]\n",
    "        # sorting을 해놓고 for 루프를 돌아야 순차적으로 찾아낼 수 있다.\n",
    "        # sorting을 하지 않고 for 루프를 여러번 돌면 시간복잡도 상승..\n",
    "        for i in range(1,N):\n",
    "            if time[i][0] >= end_time:\n",
    "                cnt +=1\n",
    "                end_time = time[i][1]\n",
    "        return cnt"
   ]
  },
  {
   "cell_type": "code",
   "execution_count": null,
   "metadata": {},
   "outputs": [],
   "source": [
    "# 1080 hard..\n",
    "class Solution:\n",
    "    def matrix(self,a:int,b:int)->int:\n",
    "        arr = [[0]*b for _ in range(a)]\n",
    "        target_arr = [[0]*b for _ in range(a)]\n",
    "        for i in range(a):\n",
    "            arr[i] = list(map(int, input()))\n",
    "        for i in range(a):\n",
    "            target_arr[i] = list(map(int, input()))\n",
    "        def change(k,l):\n",
    "            for x in range(k,k+3):\n",
    "                for y in range(l,l+3):\n",
    "                    if arr[x][y] == 0:\n",
    "                        arr[x][y] = 1\n",
    "                    else:\n",
    "                        arr[x][y] = 0\n",
    "        #예외처리\n",
    "        if (a < 3 or b < 3) and arr != target_arr:\n",
    "            cnt = -1\n",
    "        cnt = 0\n",
    "\n",
    "        for i in range(a-2):\n",
    "            for j in range(b-2):\n",
    "                if arr[i][j] != target_arr[i][j]:\n",
    "                    cnt += 1\n",
    "                    change(i,j)\n",
    "        if cnt != -1:\n",
    "            if arr != target_arr:\n",
    "                cnt = -1\n",
    "        return cnt"
   ]
  }
 ],
 "metadata": {
  "kernelspec": {
   "display_name": "Python 3",
   "language": "python",
   "name": "python3"
  },
  "language_info": {
   "codemirror_mode": {
    "name": "ipython",
    "version": 3
   },
   "file_extension": ".py",
   "mimetype": "text/x-python",
   "name": "python",
   "nbconvert_exporter": "python",
   "pygments_lexer": "ipython3",
   "version": "3.11.9"
  }
 },
 "nbformat": 4,
 "nbformat_minor": 2
}
