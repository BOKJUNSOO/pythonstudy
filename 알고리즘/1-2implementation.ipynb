{
 "cells": [
  {
   "cell_type": "markdown",
   "metadata": {},
   "source": [
    "구현 : 시뮬레이션과 완전탐색\n",
    "- 머릿속에 있는 알고리즘을 소스코드로 바꾸는 과정\n",
    "    - 풀이를 떠올리는 것은 쉽지만 소스코드로 옮기기 어려운 문제\n",
    "\n",
    "- 예시\n",
    "    - 알고리즘은 간단한데 코드가 지나칠 만큼 길어지는 문제\n",
    "    - 실수 연산을 다루고, 특정 소수점 자리까지 출력해야 하는 문제\n",
    "    - 문자열을 특정한 기준에 따라서 끊어 처리해야 하는 문제(python)\n",
    "    - 적절한 ***라이브러리***를 찾아서 사용해야 하는 문제(순열과 조합)\n"
   ]
  },
  {
   "cell_type": "code",
   "execution_count": null,
   "metadata": {},
   "outputs": [
    {
     "name": "stdout",
     "output_type": "stream",
     "text": [
      "( 0 , 0 ) ( 0 , 1 ) ( 0 , 2 ) ( 0 , 3 ) ( 0 , 4 ) \n",
      "( 1 , 0 ) ( 1 , 1 ) ( 1 , 2 ) ( 1 , 3 ) ( 1 , 4 ) \n",
      "( 2 , 0 ) ( 2 , 1 ) ( 2 , 2 ) ( 2 , 3 ) ( 2 , 4 ) \n",
      "( 3 , 0 ) ( 3 , 1 ) ( 3 , 2 ) ( 3 , 3 ) ( 3 , 4 ) \n",
      "( 4 , 0 ) ( 4 , 1 ) ( 4 , 2 ) ( 4 , 3 ) ( 4 , 4 ) \n",
      "2,3\n",
      "1,2\n",
      "2,1\n",
      "3,2\n"
     ]
    }
   ],
   "source": [
    "# 2차원 행렬 구현 source code!\n",
    "for i in range(5):\n",
    "    for j in range(5):\n",
    "        print(\"(\",i,',',j,')',end=' ')\n",
    "    print()\n",
    "\n",
    "# 시뮬레이션 및 완전 탐색 문제에서는 2차원 공간에서의 방향 벡터가 활용된다.\n",
    "# 동, 북, 서, 남\n",
    "dx = [0,-1,0,1] # 행\n",
    "dy = [1,0,-1,0] # 열\n",
    "\n",
    "# 현재 위치 \n",
    "x, y = 2, 2\n",
    "for i in range(4):\n",
    "    # 다음 위치\n",
    "    nx = x + dx[i]\n",
    "    ny = y + dy[i]\n",
    "    # 동, 북, 서, 남 순서의 좌표\n",
    "    print(nx,ny, sep=\",\")"
   ]
  },
  {
   "cell_type": "markdown",
   "metadata": {},
   "source": [
    "- 여행가 A 는 N X N 크기의 정사각형 공간 위에 서 있습니다. \n",
    "- 이 공간은 1 X 1 크기의 정사각형으로 나누어져 있습니다. \n",
    "- 가장 왼쪽 위 좌표는 (1,1) 이며, 가장 오른쪽 아래 좌표는 (N,N)에 해당합니다. \n",
    "- 여행가 A는 상,하,좌,우 방향으로 이동할 수 있으며, 시작 좌표는 항상 (1,1)입니다. \n",
    "- 우리 앞에는 여행가 A가 이동할 계획이 적힌 계획서가 놓여있습니다.\n",
    "\n",
    "- 계획서에는 하나의 줄에 띄어쓰기를 기준으로 하여 L, R , U ,D 중 하나의 문자가 반복적으로 적혀있습니다.\n",
    "    - L : 왼쪽으로 한 칸 이동\n",
    "    - R : 오른쪽으로 한 칸 이동\n",
    "    - U : 위로 한 칸 이동\n",
    "    - D : 아래로 한 칸 이동\n",
    "\n",
    "- 이때 여행가가 A 가 N X N 크기의 정사각형 공간을 벗어나는 움직임은 무시됩니다.\n",
    "- 예를 들어 (1,1)의 위치에서 L 혹은 U를 만나면 무시됩니다.\n",
    "    >> 입력조건 : \n",
    "        1) 첫째 줄에 공간의 크기를 나타내는 N이 주어집니다.\n",
    "        2) 둘째 줄에 여행가 A가 이동할 계획서 내용이 주어집니다.\n",
    "    >> 출력조건 : 첫째 줄에 여행가 A가 최종적으로 도착할 지점의 좌표 (X,Y)를 공백을 기준으로 구분하여 출력합니다.\n",
    "\n",
    "\n"
   ]
  },
  {
   "cell_type": "code",
   "execution_count": null,
   "metadata": {},
   "outputs": [
    {
     "name": "stdout",
     "output_type": "stream",
     "text": [
      "['R', 'R', 'D', 'U']\n",
      "3,2\n"
     ]
    }
   ],
   "source": [
    "N = int(input())\n",
    "plans = list(input().split())\n",
    "x, y = 1, 1\n",
    "# 단위 방향벡터 생성 \n",
    "# D U R L\n",
    "dx = [0,0,1,-1] # 열\n",
    "dy = [-1,1,0,0] # 행\n",
    "move = [\"D\",\"U\",\"R\",\"L\"]\n",
    "for plan in plans:\n",
    "    # 몇번째 인덱스인지 찾기위해\n",
    "    for i in range(len(move)):\n",
    "        # 만족하는 움직임으로 next point를 지정하고 for 루프 탈출\n",
    "        if plan == move[i]:\n",
    "            nx = x + dx[i]\n",
    "            ny = y + dy[i]\n",
    "    # 공간을 넘어가는 경우 해당 plan 을 스킵한다.\n",
    "    if nx < 1 or ny <1 or nx > N or ny > N:\n",
    "        continue\n",
    "    x = nx\n",
    "    y = ny\n",
    "print(x,y,sep =',')\n",
    "        \n",
    "\n",
    "\n",
    "\n",
    "\n",
    "\n"
   ]
  },
  {
   "cell_type": "markdown",
   "metadata": {},
   "source": [
    "- 정수 N이 입력되면 00시 00분 00초 부터 N시 59분 59초까지의 \n",
    "- 모든 시각중에서 3이 하나라도 포함되는 모든 경우의 수를 구하는 프로그램을 작성하세요.\n",
    "- 예를 들어 1을 입력했을 떄 다음은 3이 하나라도 포함되어 있으므로 세어야 하는 시각입니다.\n",
    "    - 00시 00분 03초\n",
    "    - 00시 13분 30초\n",
    "- 반면 다음은 3이 하나도포함되어 있지 않으므로 세면 안되는 시각입니다.\n",
    "    - 00시 02분 55초\n",
    "    - 01시 27분 45초\n",
    "\n",
    ">> 입력조건 : 첫째 줄에 정수 N이 입력됩니다.\n",
    "\n",
    ">> 출력조건 : 00시 00분 00초부터 N시 59분 59초 까지의 모든 시각 중에서 3이 하나라도 포함되는 모든 경우의 수를 출력합니다."
   ]
  },
  {
   "cell_type": "markdown",
   "metadata": {},
   "source": [
    "- 가능한 모든 시각의 경우를 하나씩 모두 세서 풀 수 있는 문제\n",
    "- 하루는 86,400초이므로, 00시 00분 00초부터 23시 59분 59초까지의 모든 경우는 86,400 가지 이다.\n",
    "    - 24 * 60 * 60 = 86,400\n",
    "- 따라서 단순히 시각을 1씩 증가시키면서 3이 하나라도 포함되 어 있는지를 확인하면 된다.\n",
    "- 이러한 유형은 완전 탐색(Brute Forcing) 문제 유형이라고 불린다.\n",
    "    - 가능한 모든 경우의 수를 모두 검사해보는 탐색 방법\n"
   ]
  },
  {
   "cell_type": "code",
   "execution_count": 24,
   "metadata": {},
   "outputs": [
    {
     "name": "stdout",
     "output_type": "stream",
     "text": [
      "11475\n"
     ]
    }
   ],
   "source": [
    "class Solution:\n",
    "    def clock(self,n:int)->int:\n",
    "        count = 0\n",
    "        for i in range(n+1):\n",
    "            for j in range(60):\n",
    "                for k in range(60):\n",
    "                    if \"3\" in str(i) + str(j) + str(k):\n",
    "                        count +=1\n",
    "        return count\n",
    "n = int(input())\n",
    "solution = Solution()\n",
    "result = solution.clock(n)\n",
    "print(result)"
   ]
  },
  {
   "cell_type": "markdown",
   "metadata": {},
   "source": [
    ">> 입력조건 :\n",
    "    - 첫째 줄에 8 X 8 좌표 평면상에서 현재 나이트가 위치한 곳의 좌표를 나타내는 두 문자로 구성된 문자열이 입력된다. \n",
    "    - 입력 문자는 a1 처럼 열과 행으로 이루어진다.\n",
    "\n",
    ">> 출력조건 : 2) 첫째 줄에 나이트가 이동할 수 있는 경우의 수를 출력하시오."
   ]
  },
  {
   "cell_type": "code",
   "execution_count": null,
   "metadata": {},
   "outputs": [
    {
     "data": {
      "text/plain": [
       "2"
      ]
     },
     "execution_count": 38,
     "metadata": {},
     "output_type": "execute_result"
    }
   ],
   "source": [
    "# 8가지 움직임\n",
    "dx = [1,-1,2,2,1,-1,-2,-2]\n",
    "dy = [2,2,1,-1,-2,-2,-1,1]\n",
    "\n",
    "# 2차원 배열로 방향벡터 정의\n",
    "steps = list(zip(dx,dy))\n",
    "\n",
    "loc = input()\n",
    "row = int(loc[1])\n",
    "col = int(ord(loc[0])) - int(ord(\"a\")) + 1  # source code 아스키 코드 인트형으로 변환..\n",
    "\n",
    "# 8가지 방향에 대해 이동이 가능한지 확인\n",
    "result = 0\n",
    "for step in steps:\n",
    "    nx = row + step[0] # 2차원 튜플 인덱스 접근\n",
    "    ny = col + step[1]\n",
    "    if nx >= 1 and nx <=8 and ny >=1 and ny <=8: #이동한 nx, ny 가 체스판 안에 좌표가 맞다면\n",
    "        result += 1\n",
    "print(result)\n"
   ]
  },
  {
   "cell_type": "markdown",
   "metadata": {},
   "source": [
    "- 알파벳 대문자와 숫자(0~9)로만 구성된 문자열이 입력으로 주어진다.\n",
    "- 이때 모든 알파벳을 오름차순으로 정렬하여 이어서 출력한 뒤에, 그 뒤에 모든 숫자를 더한 값을 이어서 출력\n",
    "- 예를들어 K1KA5CB7이라는 값이 들어오면 ABCKK13을 출력한다.\n",
    "\n",
    ">> 입력조건 : 첫째 줄에 하나의 문자열 S가 주어집니다\n",
    "\n",
    ">> 출력조건 : 첫째 줄에 문제에서 요구하는 정답을 출력합니다."
   ]
  },
  {
   "cell_type": "code",
   "execution_count": null,
   "metadata": {},
   "outputs": [
    {
     "name": "stdout",
     "output_type": "stream",
     "text": [
      "adddffiiijjss18\n"
     ]
    }
   ],
   "source": [
    "string = input()\n",
    "word_list = []\n",
    "result = 0\n",
    "check_list = [\"0\",\"1\",\"2\",\"3\",\"4\",\"5\",\"6\",\"7\",\"8\",\"9\"]\n",
    "for i in string:\n",
    "    if i not in check_list:\n",
    "        word_list.append(i)\n",
    "    else:\n",
    "        result += int(i)\n",
    "word_list.sort()\n",
    "\n",
    "for i in word_list:\n",
    "    print(i,end = \"\")\n",
    "if result != 0: # 예외 주의\n",
    "    print(result)\n",
    "\n"
   ]
  },
  {
   "cell_type": "code",
   "execution_count": 2,
   "metadata": {},
   "outputs": [
    {
     "name": "stdout",
     "output_type": "stream",
     "text": [
      "False\n"
     ]
    }
   ],
   "source": [
    "arr = [0,0,0]\n",
    "print(bool(arr[1]))"
   ]
  }
 ],
 "metadata": {
  "kernelspec": {
   "display_name": "Python 3",
   "language": "python",
   "name": "python3"
  },
  "language_info": {
   "codemirror_mode": {
    "name": "ipython",
    "version": 3
   },
   "file_extension": ".py",
   "mimetype": "text/x-python",
   "name": "python",
   "nbconvert_exporter": "python",
   "pygments_lexer": "ipython3",
   "version": "3.11.9"
  }
 },
 "nbformat": 4,
 "nbformat_minor": 2
}
