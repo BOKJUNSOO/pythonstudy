{
 "cells": [
  {
   "cell_type": "markdown",
   "metadata": {},
   "source": [
    "그래프 탐색 알고리즘 : DFS/BFS\n"
   ]
  },
  {
   "cell_type": "markdown",
   "metadata": {},
   "source": [
    "- 탐색 이란 많은 양의 데이터 중에서 \"원하는 데이터\"를 찾는 과정을 말합니다.\n",
    "- 대표적인 그래프 탐색 알고리즘으로는 DFS와 BFS가 있다.\n",
    "- DFS/BFS는 코딩 테스트에서 매우 자주 등장하는 유형!!"
   ]
  },
  {
   "cell_type": "markdown",
   "metadata": {},
   "source": [
    "<자료구조>\n",
    "\n",
    "- 스택 (stack)\n",
    "    - 먼저 들어온 데이터가 나중에 나가는 선입후출의 자료구조\n",
    "    - 입구와 출구가 동일한 형태로 시각화 할 수 있다.\n",
    "    - 삽입과 삭제 연산이 존재한다. push / pop"
   ]
  },
  {
   "cell_type": "code",
   "execution_count": null,
   "metadata": {},
   "outputs": [
    {
     "name": "stdout",
     "output_type": "stream",
     "text": [
      "[3, 2, 1]\n"
     ]
    }
   ],
   "source": [
    "# 스택 구현\n",
    "stack = []\n",
    "stack.append(3)\n",
    "stack.append(2)\n",
    "stack.append(1)\n",
    "stack.append(7)\n",
    "stack.pop()\n",
    "print(stack)"
   ]
  },
  {
   "cell_type": "markdown",
   "metadata": {},
   "source": [
    "- 큐 (queue)\n",
    "    - 먼저 들어오 데이터가 먼저 나가는 선입선출의 자료구조\n",
    "    - 큐는 입구와 출구가 모두 뚫려 있는 터널과 같은 형태로 시각화할 수 있다."
   ]
  },
  {
   "cell_type": "code",
   "execution_count": null,
   "metadata": {},
   "outputs": [
    {
     "name": "stdout",
     "output_type": "stream",
     "text": [
      "deque([2, 3, 7])\n",
      "deque([3, 7, 4, 6])\n"
     ]
    }
   ],
   "source": [
    "# 큐 구현\n",
    "# 덱 메서드 사용\n",
    "from collections import deque\n",
    "queue = deque()\n",
    "queue.append(5)\n",
    "queue.append(2)\n",
    "queue.append(3)\n",
    "queue.append(7)\n",
    "queue.popleft() # list의 pop 메서드를 사용하면 x\n",
    "print(queue)    # 2, 3, 7\n",
    "queue.append(4)\n",
    "queue.append(6)\n",
    "queue.popleft()\n",
    "print(queue)"
   ]
  },
  {
   "cell_type": "markdown",
   "metadata": {},
   "source": [
    "- 재귀함수 (Recursive Fuction)\n",
    "    - 자기 자신을 다시 호출하는 함수 (DFS 구현시 사용)"
   ]
  },
  {
   "cell_type": "code",
   "execution_count": null,
   "metadata": {},
   "outputs": [],
   "source": [
    "# 재귀함수 예시\n",
    "def recursive_fuction():\n",
    "    print(\"재귀 함수를 호출합니다\")\n",
    "    #recursive_fuction()\n",
    "recursive_fuction()"
   ]
  },
  {
   "cell_type": "markdown",
   "metadata": {},
   "source": [
    "- 재귀함수를 문제 풀이에서 사용할 때는 재귀 함수의 종료 조건을 반드시 명시해야 한다.\n",
    "- 종료 조건을 제대로 명시하지 않으면 함수가 무한히 호출될 수 있다."
   ]
  },
  {
   "cell_type": "code",
   "execution_count": null,
   "metadata": {},
   "outputs": [],
   "source": [
    "# 종료조건을 포함한 재귀 함수 예제\n",
    "def recurisive_fuction(i):\n",
    "    # 10번째 호출을 했을 때 종료 되도록 종료 조건을 명시\n",
    "    if i == 10:\n",
    "        return  # 함수 스택 삭제\n",
    "    print(i,'번째 재귀함수에서',i+1,\"번째 재귀함수를 호출합니다.\")\n",
    "    recurisive_fuction(i+1)\n",
    "    print(i,\"번째 재귀함수를 종료합니다.\")\n",
    "recurisive_fuction(1)"
   ]
  },
  {
   "cell_type": "markdown",
   "metadata": {},
   "source": [
    "- 팩토리얼 구현 예제\n",
    "    - n! = 1 x 2 x ... x n\n",
    "    - 수학적으로 0! 과 1! 의 값은 1이다."
   ]
  },
  {
   "cell_type": "code",
   "execution_count": null,
   "metadata": {},
   "outputs": [
    {
     "name": "stdout",
     "output_type": "stream",
     "text": [
      "120\n",
      "120\n"
     ]
    }
   ],
   "source": [
    "# 반복적으로 구현한 n!\n",
    "def factorial_interative(n):\n",
    "    result = 1\n",
    "    for i in range(1,n+1):\n",
    "        result *=i\n",
    "    return result\n",
    "\n",
    "# 재귀적으로 구현한 n!\n",
    "def factorial_recursive(n):\n",
    "    if n <=1: #n이 1이하인 경우 1을 반환\n",
    "        return 1\n",
    "    return n * factorial_recursive(n-1)\n",
    "print(factorial_recursive(5))\n",
    "print(factorial_interative(5))"
   ]
  },
  {
   "cell_type": "markdown",
   "metadata": {},
   "source": [
    "- 최대 공약수 계산 (유클리드 호제법) 예제\n",
    "    - 두 자연수 A,B에 대하여 (A>B) A를 B로 나눈 나머지를 R이라고 하자.\n",
    "    - 이때 A와 B의 최대공약수는 B와 R의 최대공약수와 같다.\n",
    "- 유클리드 호제법의 아이디어를 그대로 바꿔 재귀함수로 작성할 수 있다.\n",
    "    - 예시 GCD (192,162)\n"
   ]
  },
  {
   "cell_type": "code",
   "execution_count": null,
   "metadata": {},
   "outputs": [
    {
     "name": "stdout",
     "output_type": "stream",
     "text": [
      "6\n",
      "6\n"
     ]
    }
   ],
   "source": [
    "def uclid(A:int,B:int)->int:\n",
    "    if A>B:\n",
    "        R = A % B\n",
    "        if R ==0:\n",
    "            return B\n",
    "        else:\n",
    "            return uclid(R,B)   # return 이 없다면 스택에서 그냥 사라진다 ..!*\n",
    "    elif A<B:\n",
    "        R = B % A\n",
    "        if R == 0:\n",
    "            return A\n",
    "        else:\n",
    "            return uclid(R,A)\n",
    "    else:\n",
    "        return 1\n",
    "print (uclid(162,192))\n",
    "\n",
    "def gcd(a,b):\n",
    "    if a%b ==0:\n",
    "        return b\n",
    "    else:\n",
    "        return gcd(b,a%b)\n",
    "print(gcd(162,192))\n",
    "    "
   ]
  }
 ],
 "metadata": {
  "kernelspec": {
   "display_name": "Python 3",
   "language": "python",
   "name": "python3"
  },
  "language_info": {
   "codemirror_mode": {
    "name": "ipython",
    "version": 3
   },
   "file_extension": ".py",
   "mimetype": "text/x-python",
   "name": "python",
   "nbconvert_exporter": "python",
   "pygments_lexer": "ipython3",
   "version": "3.11.9"
  }
 },
 "nbformat": 4,
 "nbformat_minor": 2
}
