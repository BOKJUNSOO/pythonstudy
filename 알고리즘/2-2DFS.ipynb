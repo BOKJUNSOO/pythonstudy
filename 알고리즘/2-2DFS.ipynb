{
 "cells": [
  {
   "cell_type": "markdown",
   "metadata": {},
   "source": [
    "탐색\n",
    "- 탐색 이란 많은 양의 데이터 중에서 \"원하는 데이터\"를 찾는 과정을 말합니다.\n",
    "\n",
    "- 대표적인 그래프 탐색 알고리즘으로는 DFS와 BFS가 있다.\n",
    "\n",
    "- DFS/BFS는 코딩 테스트에서 매우 자주 등장하는 유형!!"
   ]
  },
  {
   "cell_type": "markdown",
   "metadata": {},
   "source": [
    "DFS\n",
    "- DFS 는 깊이 우선 탐색 이라고도 부르며 , 그래프에서 깊은 부분을 우선적으로 탐색하는 알고리즘\n",
    "\n",
    "- DFS는 스택 자료구조를 이용하며, 구체적인 동작 과정은 다음과 같다.\n",
    "    1) 탐색 시작 노드(1)를 스택에 삽입하고 방문처리를 합니다.\n",
    "\n",
    "    2) 시작노드를 출력하고 시작노드와 인접한 노드를 모두 스택에 추가합니다.\n",
    "\n",
    "    3) 스택의 최상단 노드를 꺼내고 출력합니다.\n",
    "\n",
    "    4) 스택의 최상단 노드에 인접한 노드가 존재한다면 인접한 노드를 다시 스택에 추가합니다.\n",
    "    \n",
    "    (반복)\n",
    "    >> 얼음틀\n"
   ]
  },
  {
   "cell_type": "code",
   "execution_count": null,
   "metadata": {},
   "outputs": [],
   "source": [
    "#참고) 그래프 구현\\\n",
    "line, node = map(int, input().split())\n",
    "node = node +1 # dummy node\n",
    "\n",
    "#\n",
    "graph = [[] for _ in range(node)]\n",
    "\n",
    "# 간선 정보 입력\n",
    "for i in range(line):\n",
    "    a,b = map(int, input().split())\n",
    "    graph[a] += [b]\n",
    "    graph[b] += [a]\n",
    "\n",
    "# 각 노드 오름차순 (문제조건)\n",
    "for i in range(1,node):\n",
    "    graph[i].sort()\n"
   ]
  },
  {
   "cell_type": "code",
   "execution_count": null,
   "metadata": {},
   "outputs": [
    {
     "name": "stdout",
     "output_type": "stream",
     "text": [
      "1 2 7 6 8 3 4 5 "
     ]
    }
   ],
   "source": [
    "# DFS Algorithm Source Code\n",
    "def dfs(graph,v,visited):\n",
    "    # 현재 노드를 방문 처리\n",
    "    visited[v] = True\n",
    "    print(v, end =' ')\n",
    "    # 해당노드의 인접 노드에 대해서\n",
    "    for i in graph[v]:\n",
    "        # 인접노드가 아직 방문하지 않았다면 (노드리스트에 솔팅된 순서에 따라)\n",
    "        if visited[i] == False:\n",
    "            # 재귀함수를 계속 호출하여 더 깊은곳 까지 탐색하는 알고리즘!!\n",
    "            dfs(graph,i,visited)\n",
    "\n",
    "\n",
    "# 그래프 표현 2차원 리스트\n",
    "graph = [\n",
    "    [],\n",
    "    [2,3,8],\n",
    "    [1,7],\n",
    "    [1,4,5],\n",
    "    [3,5],\n",
    "    [3,4],\n",
    "    [7],\n",
    "    [2,6,8],\n",
    "    [1,7]\n",
    "]\n",
    "# 각 노드가 방문된 정보를 표현 (1차원 리스트)\n",
    "visited = [False] * 9\n",
    "\n",
    "# 정의된 DFS 호출\n",
    "dfs(graph , 1, visited)\n"
   ]
  },
  {
   "cell_type": "markdown",
   "metadata": {},
   "source": [
    "<문제>\n",
    "\n",
    "- N X M 크기의 얼음 틀이 있다. 구멍이 뚫려 있는 부분은 0, 칸막이가 존재하는 부분은 1로 표시된다. 구멍이 뚫려 있는 부분끼리 상,하,좌,우로 붙어 있는 경우 서로 연결되어 있는 것으로 간주한다.\n",
    "- 이때 얼음 틀의 모양이 주어졌을 때 생성되는 총 아이스크림의 개수를 구하는 프로그램을 작성하시오.\n",
    "\n",
    ">> 입력 조건 \n",
    "    1) 첫 번째 줄에 얼음 틀의 세로 길이 N과 가로 길이 M이 주어진다.\n",
    "    2) 두 번째 줄부터 N+1 번째 줄까지 얼음 틀의 형태가 주어진다.\n",
    "    3) 이때 구멍이 뚫려있는 부분은0, 그렇지 않은 부분은 1이다.\n",
    ">> 출력 조건\n",
    "    - 한 번에 만들수 있는 아이스크림의 개수를 출력한다."
   ]
  },
  {
   "cell_type": "markdown",
   "metadata": {},
   "source": [
    "- DFB 혹은 BFS로 해결할 수 있다.\n",
    "- 얼음을 얼릴 수 있는 공간이 상, 하 ,좌, 우 연결되어 있으므로 그래프로 모델링할 수 있다.\n",
    "    - DFS 활용\n",
    "    1) 특정한 지점의 주변 상, 하 ,좌, 우,를 살펴본 뒤에 주변 지점 중에서 값이 '0'이면서 아직 방문하지 않은 지점이 있다면 해당 지점을 방문한다.\n",
    "    \n",
    "    2) 방문한 지점에서 다시 상,하,좌,우를 살펴보면서 방문을 진행하는 과정을 반복하면, 연결된 모든 지점을 방문할 수 있다.\n",
    "\n",
    "    3) 모든 노드에 대하여 1~2번의 과정을 반복하며, 방문하지 않은 지점의 수를 카운트한다."
   ]
  },
  {
   "cell_type": "code",
   "execution_count": null,
   "metadata": {},
   "outputs": [
    {
     "name": "stdout",
     "output_type": "stream",
     "text": [
      "3\n"
     ]
    }
   ],
   "source": [
    "n, m = map(int, input().split())\n",
    "\n",
    "graph = [[0] * m for _ in range(n)]\n",
    "# 2차원 리스트 입력받기\n",
    "for i in range(n):\n",
    "    graph[i] = list(map(int, input()))\n",
    "\n",
    "# DFS로 특정 노드를 방문하고 연결된 모든 노드들도 방문\n",
    "def dfs(x,y):\n",
    "    # 주어진 범위를 벗어나는 경우에는 즉시 종료\n",
    "    if x<=-1 or x>=n or y <= -1 or y>=m:\n",
    "        return False\n",
    "    # 현재 노드를 아직 방문하지 않았다면(갈 수 있는 길이라면)\n",
    "    if graph[x][y] == 0:\n",
    "        # 해당 노드를 방문처리\n",
    "        # 방문처리를 해줘야 False 리턴하고 더이상 호출을 안한다\n",
    "        graph[x][y] = 1\n",
    "        dfs(x-1,y)\n",
    "        dfs(x,y-1)\n",
    "        dfs(x+1,y)\n",
    "        dfs(x,y+1)\n",
    "        return True\n",
    "    return False\n",
    "\n",
    "result = 0\n",
    "for r in range(n):\n",
    "    for c in range(m):\n",
    "        #1) 갈 수 있는 길이면 한번의 호출로 주변을 모두 갈수 없게 만든다\n",
    "        #2) r,c 루프를 돌면서 1)에서 결과로 갈 수 있는길을 찾았을때 카운트를 증가시킨다\n",
    "        if dfs(r,c) == True:\n",
    "            #1) 한 덩어리로 만들어 줬으므로 1 증가\n",
    "            result += 1\n",
    "print(result)"
   ]
  }
 ],
 "metadata": {
  "kernelspec": {
   "display_name": "Python 3",
   "language": "python",
   "name": "python3"
  },
  "language_info": {
   "codemirror_mode": {
    "name": "ipython",
    "version": 3
   },
   "file_extension": ".py",
   "mimetype": "text/x-python",
   "name": "python",
   "nbconvert_exporter": "python",
   "pygments_lexer": "ipython3",
   "version": "3.11.9"
  }
 },
 "nbformat": 4,
 "nbformat_minor": 2
}
