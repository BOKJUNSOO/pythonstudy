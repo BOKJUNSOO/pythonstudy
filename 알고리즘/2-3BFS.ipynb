{
 "cells": [
  {
   "cell_type": "markdown",
   "metadata": {},
   "source": [
    "BFS\n",
    "- BFS는 너비 우선탐색이라고 부르며, 그래프에서 가까운 노드부터 우선적으로 탐색하는 알고리즘\n",
    "\n",
    "- ***최단경로 문제*** 를 해결할때도 이용된다.\n",
    "\n",
    "- BFS는 큐 자료구조를 이용하며, 구체적인 동작과정은 다음과 같다.\n",
    "\n",
    "    1) 탐색 시작 노드를 큐에 삽입하고 방문처리 한다.\n",
    "    \n",
    "    2) 큐에서 노드를 꺼낸 뒤에 해당 노드의 인접 노드 중에서 방문하지 않은 노드를 모두 큐에 삽입하고 방문 처리한다.\n",
    "\n",
    "    3) 더 이상 2번의 과정을 수행할 수 없을 때까지 반복한다.\n",
    "\n",
    ">> 미로최단경로(DFS는 최단경로 보장을 못 한다)"
   ]
  },
  {
   "cell_type": "code",
   "execution_count": null,
   "metadata": {},
   "outputs": [],
   "source": [
    "# BFS Algorithm Source Code\n",
    "from collections import deque\n",
    "def bfs(graph,start,visited):\n",
    "    queue = deque([start])\n",
    "    # 현재 노드를 방문 처리\n",
    "    visited[start] = True\n",
    "    # queue가 빌 때까지 반복\n",
    "    # queue가 빈다면 false 리턴\n",
    "    while queue:\n",
    "        # pop 으로 현재 큐에 있는 노드를 리턴\n",
    "        v = queue.popleft()\n",
    "        print(v, end = \" \")\n",
    "        for i in graph[v]:\n",
    "            if visited[i] == False:\n",
    "                # 인접 노드를 모두 큐에 집어 넣는다\n",
    "                queue.append(i)\n",
    "                # 방문 처리\n",
    "                visited[i] = True\n",
    "\n",
    "# 그래프 표현 2차원 리스트\n",
    "graph = [\n",
    "    [],\n",
    "    [2,3,8],\n",
    "    [1,7],\n",
    "    [1,4,5],\n",
    "    [3,5],\n",
    "    [3,4],\n",
    "    [7],\n",
    "    [2,6,8],\n",
    "    [1,7]\n",
    "]\n",
    "# 각 노드가 방문된 정보를 표현 (1차원 리스트)\n",
    "visited = [False] * 9\n",
    "\n",
    "bfs(graph, 1, visited)"
   ]
  },
  {
   "cell_type": "markdown",
   "metadata": {},
   "source": [
    "<문제>\n",
    "\n",
    "- N X M 크기의 직사각형 형태의 미로에 갇혔다. 미로에는 여러 마리의 괴물이 있어 이를 피해 탈출해야 한다.\n",
    "- 동빈이의 위치는 (1,1)이며 미로의 출구는 (N,M)의 위치에 존재하며 한 번에 한 칸씩 이동할 수 있다.\n",
    "- 이때 괴물이 있는 부분은 0으로, 괴물이 없는 부분은 1로 표시되어 있다. 미로는 반드시 탈출할 수 있다.\n",
    "- 이때 동빈이가 탈출하기 위해 움직여야 하는 최소 칸의 개수를 구하세요. 칸을 셀 때는 시작과 마지막 칸을 모두 포함해서 계산한다.\n",
    "\n",
    ">> 입력 조건 \n",
    "    1) 첫 번째 줄에 두 정수 N과 M이 주어진다.\n",
    "    2) 두 번째 줄부터 N개의 줄에는 M개의 정수의 미로정보가 주어진다. \n",
    "    3) 또한 시작칸과 마지막칸은 항상 1이다.\n",
    ">> 출력 조건\n",
    "    - 최소 이동 칸의 개수를 출력한다."
   ]
  },
  {
   "cell_type": "markdown",
   "metadata": {},
   "source": [
    "- BFS는 시작 지점에서 가까운 노드부터 차례대로 그래프의 모든 노드를 탐색한다.\n",
    "- 상, 하, 좌, 우로 연결된 모든 노드로의 거리가 1로 동일하다.\n",
    "    - 따라서 (1,1) 지점부터 BFS를 수행하여 모든 노드의 최단 거리 값을 기록하면 해결할 수 있다.\n"
   ]
  },
  {
   "cell_type": "code",
   "execution_count": null,
   "metadata": {},
   "outputs": [],
   "source": [
    "from collections import deque\n",
    "n,m = map(int,input().split())\n",
    "graph = [[0] * m for _ in range(n)]\n",
    "for _ in range(n):\n",
    "    graph[_] = list(map(int, input()))\n",
    "# 이동방향 정의\n",
    "# 좌/ 우 / 하/ 상\n",
    "dx = [-1,1,0,0]\n",
    "dy = [0,0,-1,1]\n",
    "def bfs(x,y):\n",
    "    queue = deque()\n",
    "    queue.append((x,y))\n",
    "    while queue:\n",
    "        x,y = queue.popleft()\n",
    "        for i in range(4):\n",
    "            nx = x + dx[i]\n",
    "            ny = y + dy[i]\n",
    "            # 미로찾기 공간을 벗어난 경우 무시\n",
    "            if nx <0 or nx>=n or ny<0 or ny>=m:\n",
    "                continue\n",
    "            # 벽인 경우 무시\n",
    "            if graph[nx][ny] == 0:\n",
    "                continue\n",
    "            # 해당 노드를 처음 방문하는 경우에만 최단거리 기록\n",
    "            if graph[nx][ny] == 1:\n",
    "                graph[nx][ny] = graph[x][y] +1\n",
    "                queue.append((nx,ny))\n",
    "    # 가장 오른쪽 아래까지의 최단 거리 반환\n",
    "    return graph[n-1][m-1]\n",
    "print(bfs(0,0))"
   ]
  },
  {
   "cell_type": "code",
   "execution_count": 2,
   "metadata": {},
   "outputs": [
    {
     "data": {
      "text/plain": [
       "3"
      ]
     },
     "execution_count": 2,
     "metadata": {},
     "output_type": "execute_result"
    }
   ],
   "source": [
    "stack = [0,1,2,3]\n",
    "stack.pop()"
   ]
  },
  {
   "cell_type": "code",
   "execution_count": null,
   "metadata": {},
   "outputs": [
    {
     "name": "stdout",
     "output_type": "stream",
     "text": [
      "1\n"
     ]
    }
   ],
   "source": [
    "from collections import deque\n",
    "queue = deque()\n",
    "queue.append((1,2))\n",
    "queue.append([3,4])\n",
    "a, b = queue.popleft()\n"
   ]
  },
  {
   "cell_type": "code",
   "execution_count": 15,
   "metadata": {},
   "outputs": [
    {
     "name": "stdout",
     "output_type": "stream",
     "text": [
      "True\n"
     ]
    }
   ],
   "source": [
    "graph = [[1,2,3],[4,5,6],[7,8,9]]\n",
    "for i in graph:\n",
    "    if 1 in i:\n",
    "        print(True)"
   ]
  },
  {
   "cell_type": "code",
   "execution_count": 6,
   "metadata": {},
   "outputs": [
    {
     "name": "stdout",
     "output_type": "stream",
     "text": [
      "([1, 2], [4, 5])\n",
      "1 2\n",
      "4 5\n",
      "([1, 2], [7, 8])\n",
      "1 2\n",
      "7 8\n",
      "([1, 2], [10, 11])\n",
      "1 2\n",
      "10 11\n",
      "([1, 2], [13, 14])\n",
      "1 2\n",
      "13 14\n",
      "([4, 5], [7, 8])\n",
      "4 5\n",
      "7 8\n",
      "([4, 5], [10, 11])\n",
      "4 5\n",
      "10 11\n",
      "([4, 5], [13, 14])\n",
      "4 5\n",
      "13 14\n",
      "([7, 8], [10, 11])\n",
      "7 8\n",
      "10 11\n",
      "([7, 8], [13, 14])\n",
      "7 8\n",
      "13 14\n",
      "([10, 11], [13, 14])\n",
      "10 11\n",
      "13 14\n"
     ]
    }
   ],
   "source": [
    "from itertools import combinations\n",
    "# 5개중 2개를 택하는경우\n",
    "graph = [[1,2],[4,5],[7,8],[10,11],[13,14]]\n",
    "for i in combinations(graph,2):\n",
    "    print(i)\n",
    "    for x,y in i:\n",
    "        print(x,y)\n",
    "\n"
   ]
  }
 ],
 "metadata": {
  "kernelspec": {
   "display_name": "Python 3",
   "language": "python",
   "name": "python3"
  },
  "language_info": {
   "codemirror_mode": {
    "name": "ipython",
    "version": 3
   },
   "file_extension": ".py",
   "mimetype": "text/x-python",
   "name": "python",
   "nbconvert_exporter": "python",
   "pygments_lexer": "ipython3",
   "version": "3.12.7"
  }
 },
 "nbformat": 4,
 "nbformat_minor": 2
}
