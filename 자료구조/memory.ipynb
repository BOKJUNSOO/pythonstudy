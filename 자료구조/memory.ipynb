{
 "cells": [
  {
   "cell_type": "markdown",
   "metadata": {},
   "source": [
    "# 메모리구조(1)\n",
    "\n",
    "#### 0. 정수, 문자열, 불, 리스트 혹은 딕셔너리의 `주소`는 스택에 저장된다.  \n",
    "\n",
    "#### 1. 함수도 힙에 저장되며 스택에는 함수의 주소가 저장된다\n",
    "\n",
    "#### 2. 함수를 호출하면 함수스택이 생성된다.\n",
    "\n",
    "#### 3. 함수스택은 함수호출이 종료되면 삭제된다."
   ]
  },
  {
   "cell_type": "code",
   "execution_count": null,
   "metadata": {},
   "outputs": [],
   "source": [
    "# 스택에 값이 저장되는 변수들\n",
    "a = 1\n",
    "b = \"bok\"\n",
    "c = True\n",
    "\n",
    "# 스택에 주소가 저장되는 변수들\n",
    "a = [1,2,3,4,5,6]\n",
    "b = {\"Name\":\"bjs\",\"AGE\":\"28\"}\n",
    "def function_():\n",
    "    print(\"hello_world\")\n",
    "\n",
    "# 함수스택의 생성과 전역스택\n",
    "def function_a():\n",
    "    a = 20\n",
    "    b = [5,6,7,8]\n",
    "    print(a) # 20\n",
    "    print(b) # [5,6,7,8]\n",
    "function_a()\n",
    "print(a) # 1\n",
    "print(b) # \"bok\"\n"
   ]
  },
  {
   "cell_type": "code",
   "execution_count": null,
   "metadata": {},
   "outputs": [],
   "source": [
    "# 컴파일러와 관련된 에러!\n",
    "a=10\n",
    "b= \"bok\"\n",
    "c= [1,2,3,4]\n",
    "def function_b():\n",
    "    print(a)\n",
    "    print(c)\n",
    "    a = 20\n",
    "    b = \"bok\"\n",
    "function_b()"
   ]
  },
  {
   "cell_type": "markdown",
   "metadata": {},
   "source": [
    "# 메모리구조(2)\n",
    "\n",
    "#### 1. 전역 스택에 데이터는 함수내부에서 참조할 수 있다. \n",
    "- 참조는 가까운 스택부터 참조한다. (함수스택 or 전역스택)\n",
    "\n",
    "#### 2. 전역 스택에 존재하는 변수에 값을 할당하기 위해서는 global 키워드를 사용한다.\n",
    "- 전역스택에 없는 변수를 global 키워드를 이용한다면, 전역스택에 `새로운 변수`를 만들어낸다.\n",
    "\n",
    "#### 3. list의 주소를 담고 주소가 변수에 할당되어 스택에 저장된다.\n",
    "- 함수 내부에서 스택에 저장된 리스트의 주소를 참조할 수 있고, 힙에 값을 할당할 수 있다!\n",
    "- 함수 내부에서 리스트의 주소로 접근하여 힙의 데이터를 바꿀 수 있다. (**스택을 바꾸는게 아님**) -> global키워드가 필요 없다"
   ]
  },
  {
   "cell_type": "code",
   "execution_count": 32,
   "metadata": {},
   "outputs": [
    {
     "name": "stdout",
     "output_type": "stream",
     "text": [
      "1\n",
      "bok\n",
      "[1, 2, 3, 4, 5, 6, 7, 8]\n",
      "1\n"
     ]
    }
   ],
   "source": [
    "a=1\n",
    "b=\"bok\"\n",
    "c=[1,2,3,4]\n",
    "def function_a_c():\n",
    "    # 함수 내부에서 전역스택을 참조할 수 있다.\n",
    "    print(a) # 1\n",
    "    print(b) # \"bok\"\n",
    "    \n",
    "    # 전역스택에 변수를 생성할 수 있다.\n",
    "    global a,b,k\n",
    "\n",
    "    d = a # 함수스택 내부에 d라는 변수를 만든다.\n",
    "    k = 1 # 전역스택에 변수k를 1이라는 값으로 초기화한다\n",
    "\n",
    "    # string은 스택에 저장된 변수\n",
    "    b = b[::-1] # 전역스택 b라는 값을 초기화한다 \n",
    "                # b[::-1] 으로만 작성하면 할당되지 않는다 (문자열은 힙을 필요로 하지 않는다.) \n",
    "\n",
    "    # 스택에는 리스트의 주소가 저장되어 있다.\n",
    "    # 스택을 바꾸는게 아니므로 global 키워드가 필요 없다.\n",
    "    c.extend([5,6,7,8]) # c에 할당된 리스트의 주소를 참조하여 \"힙의 데이터를 변경한다.\"\n",
    "\n",
    "function_a_c()\n",
    "print(a)\n",
    "print(b)\n",
    "print(c)\n",
    "print(k)"
   ]
  }
 ],
 "metadata": {
  "kernelspec": {
   "display_name": "Python 3",
   "language": "python",
   "name": "python3"
  },
  "language_info": {
   "codemirror_mode": {
    "name": "ipython",
    "version": 3
   },
   "file_extension": ".py",
   "mimetype": "text/x-python",
   "name": "python",
   "nbconvert_exporter": "python",
   "pygments_lexer": "ipython3",
   "version": "3.12.7"
  }
 },
 "nbformat": 4,
 "nbformat_minor": 2
}
