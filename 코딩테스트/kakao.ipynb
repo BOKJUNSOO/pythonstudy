{
 "cells": [
  {
   "cell_type": "markdown",
   "metadata": {},
   "source": [
    "# 1. 숫자 문자열과 영단어\n",
    "\n",
    "- 문자열처리 string method\n",
    "    - 문자열자릿수를 바꿔야함 -> index접근 불가능 -> replace이용\n",
    "    - 숫자로만 이루어진 문자열은 바로리턴 -> isdigit\n"
   ]
  },
  {
   "cell_type": "code",
   "execution_count": null,
   "metadata": {},
   "outputs": [],
   "source": [
    "s = \"one4seveneight\" #\"1478\"\n",
    "if s.isdigit():\n",
    "    answer = int(s)\n",
    "\n",
    "dict_ = {\n",
    "    0:\"zero\",\n",
    "    1:\"one\",\n",
    "    2:\"two\",\n",
    "    3:\"three\",\n",
    "    4:\"four\",\n",
    "    5:\"five\",\n",
    "    6:\"six\",\n",
    "    7:\"seven\",\n",
    "    8:\"eight\",\n",
    "    9:\"night\"\n",
    "}\n",
    "for i in dict_:\n",
    "    v = dict_.get(i) # dict_ 는 key를 먼저 가져오고 get으로 value를 가져온다\n",
    "    if v in s:\n",
    "        s = s.replace(v,str(i))\n",
    "s = int(s)"
   ]
  },
  {
   "cell_type": "code",
   "execution_count": 34,
   "metadata": {},
   "outputs": [
    {
     "name": "stdout",
     "output_type": "stream",
     "text": [
      "['111111', '111001', '110011', '11110', '11111', '111010']\n",
      "['111111', '111001', '110011', '11110', '11111', '111010']\n",
      "['111111', '111001', '110011', '11110', '11111', '111010']\n",
      "['111111', '111001', '110011', '11110', '11111', '111010']\n",
      "['111111', '111001', '110011', '11110', '11111', '111010']\n",
      "['111111', '111001', '110011', '11110', '11111', '111010']\n",
      "['######', '###  #', '##  ##', '#### ', '#####', '### # ']\n",
      "['11111', '10101', '11101', '10011', '11111']\n",
      "['11111', '10101', '11101', '10011', '11111']\n",
      "['11111', '10101', '11101', '10011', '11111']\n",
      "['11111', '10101', '11101', '10011', '11111']\n",
      "['11111', '10101', '11101', '10011', '11111']\n",
      "['#####', '# # #', '### #', '#  ##', '#####']\n"
     ]
    }
   ],
   "source": [
    "# shift 연산 필요\n",
    "def solution(n, arr1, arr2):\n",
    "    decode_map = []\n",
    "    for i in range(n):\n",
    "        v = arr1[i]|arr2[i]\n",
    "        decode_map.append(v)\n",
    "    for i in range(n):\n",
    "        decode_map[i] = format(decode_map[i],\"b\")\n",
    "    answer = []\n",
    "    for i in range(n):\n",
    "        temp = decode_map[i].replace(\"1\",\"#\").replace(\"0\",\" \")\n",
    "        answer.append(temp)\n",
    "    return answer\n"
   ]
  },
  {
   "cell_type": "markdown",
   "metadata": {},
   "source": [
    "# 3 . 실패율\n",
    " - 딕셔너리 문법과 특정 함수 메서드에 대한 이해\n",
    "    - 딕셔너리 소팅\n",
    "    - int key와 value 추가\n",
    "    - 특정한 key의 dict 정의\n",
    "\n",
    "    - lambda 함수\n",
    "    - sorted 함수\n",
    " - 줄일수 있는 코드\n"
   ]
  },
  {
   "cell_type": "code",
   "execution_count": 129,
   "metadata": {},
   "outputs": [
    {
     "name": "stdout",
     "output_type": "stream",
     "text": [
      "[3, 4, 2, 1, 5]\n"
     ]
    }
   ],
   "source": [
    "# 런타임 에러\n",
    "def solution(N, stages):\n",
    "    gamer = len(stages)\n",
    "    v = {}\n",
    "    answer = []\n",
    "    for i in range(1,N+1):\n",
    "        stage_count = stages.count(i)\n",
    "        if stage_count == 0:\n",
    "            v[i] = 0\n",
    "        else:            \n",
    "            r = stage_count/gamer\n",
    "            gamer -= stage_count\n",
    "        #v.keys() = i\n",
    "        #v.items() = r\n",
    "        v[i] = r\n",
    "    #answer = sorted(v, key = lambda x: x[1], reverse=True)\n",
    "    answer = sorted(v, key = lambda x: v[x], reverse=True)\n",
    "    return answer\n",
    "answer = solution(5, stages = [2, 1, 2, 6, 2, 4, 3, 3])\n",
    "print(answer)\n",
    "\n",
    "# 런타임 에러\n",
    "def solution(N:int, stages:list):\n",
    "    gamer = len(stages)\n",
    "    v = []\n",
    "    for i in range(1,N+1):\n",
    "        count_stage = stages.count(i)\n",
    "        r = count_stage/gamer\n",
    "        gamer -= count_stage\n",
    "        v.append(r)\n",
    "    dict_ = dict(zip(range(1,N+1),v))\n",
    "    d1 = sorted(dict_.items(), key=lambda x: x[1],reverse=True)\n",
    "    answer = []\n",
    "    for j in d1:\n",
    "        k = j[0]\n",
    "        answer.append(k)\n",
    "    return answer\n",
    "\n",
    "def solution(N, stages):\n",
    "    gamer = len(stages)\n",
    "    v = {}\n",
    "    answer = []\n",
    "    for i in range(1,N+1):\n",
    "        stage_count = stages.count(i)\n",
    "        if stage_count == 0:\n",
    "            v[i] = 0\n",
    "        else:            \n",
    "            v[i] = stage_count/gamer\n",
    "            gamer -= stage_count\n",
    "    answer = sorted(v, key = lambda x: v[x], reverse=True)\n",
    "    return answer\n"
   ]
  },
  {
   "cell_type": "markdown",
   "metadata": {},
   "source": [
    "# 4. 다트\n",
    "- 아이디어 부족\n",
    "    - list 이용 + 리스트 슬라이싱\n",
    "    - dictionary 이용 + 키값 접근\n",
    "    - 10 예외처리\n",
    "    - 문자열 이터럴 이용 (하나씩 포인팅해서 확인하기, 값을 할당하는 것은 불가능!)"
   ]
  },
  {
   "cell_type": "code",
   "execution_count": 167,
   "metadata": {},
   "outputs": [
    {
     "name": "stdout",
     "output_type": "stream",
     "text": [
      "[1, 1]\n",
      "2\n"
     ]
    }
   ],
   "source": [
    "dartResult = \"1S*\" # KD#2S*3S [-100,2,3]\n",
    "dartResult = dartResult.replace(\"10\", \"K\")\n",
    "score = []\n",
    "square_dict = {'S':1, 'D': 2, 'T':3}\n",
    "option_dict = {'*':2, '#':-1}\n",
    "for v in dartResult:\n",
    "    if v.isdigit():\n",
    "        score.append(int(v))\n",
    "    else:\n",
    "        if v == \"K\":\n",
    "            score.append(10)\n",
    "        elif v in square_dict:\n",
    "            score[-1] **= square_dict[v]\n",
    "        else:\n",
    "            if v == \"*\":\n",
    "                score[-2:] *= 2\n",
    "                # 리스트 슬라이싱 = 리스트 // 원소 대체 (차원이 커지는것이 아님!)\n",
    "                score[-2:] = [x*2 for x in score[-2:]]\n",
    "            else:\n",
    "                score[-1] *= option_dict[v]\n",
    "print(sum(score))"
   ]
  },
  {
   "cell_type": "code",
   "execution_count": 174,
   "metadata": {},
   "outputs": [
    {
     "name": "stdout",
     "output_type": "stream",
     "text": [
      "[24, 246246]\n",
      "[12, 123123]\n"
     ]
    }
   ],
   "source": [
    "list_ = [12,3,5]\n",
    "list_[-2:] = [123123]\n",
    "stack = [x*2 for x in list_[-2:]]\n",
    "print(stack)\n",
    "print(list_)\n",
    "\n",
    "option_dict = {'*':2, '#':-1}\n",
    "# 키 기준 \"*\" in option_dict\n",
    "# values는 키로 접근 option_dict[\"#\"]\n",
    "list_ = [100,2,3]\n",
    "#list_[-2:]\n",
    "#sum(list_)\n",
    "\n"
   ]
  },
  {
   "cell_type": "markdown",
   "metadata": {},
   "source": [
    "# 5. 크레인 인형뽑기 게임\n",
    "- 스택 자료구조를 썼다.\n",
    "- 리스트 자료구조라 조금 편한 느낌..\n",
    "- 섬세한 부분이 시간초과 여부 결정 하기도함"
   ]
  },
  {
   "cell_type": "code",
   "execution_count": 254,
   "metadata": {},
   "outputs": [
    {
     "name": "stdout",
     "output_type": "stream",
     "text": [
      "4\n"
     ]
    }
   ],
   "source": [
    "def solution(board, moves):\n",
    "    n = len(board)\n",
    "    rot_board=[[None] * n for _ in range(n)]\n",
    "    for i in range(n):\n",
    "        for j in range(n):\n",
    "            rot_board[j][i] = board[i][j]\n",
    "    stack = []\n",
    "    answer = 0\n",
    "    #cnt = 0 해당부분 없어지니 시간초과가 안떴다 \n",
    "    # moves 의 길이와 상관없이 원소를 참조해야하기 때문에 stack의 크기를 생각..\n",
    "    for m in moves:\n",
    "        for j in range(n):\n",
    "            if rot_board[m-1][j] == 0:\n",
    "                continue\n",
    "            else:\n",
    "                stack.append(rot_board[m-1][j])\n",
    "                rot_board[m-1][j] = 0\n",
    "                break\n",
    "        if len(stack)>=2:\n",
    "            if stack[-1] == stack[-2]:\n",
    "                answer += 2\n",
    "                stack.pop()\n",
    "                stack.pop()\n",
    "        #cnt += 1\n",
    "    return answer"
   ]
  }
 ],
 "metadata": {
  "kernelspec": {
   "display_name": "Python 3",
   "language": "python",
   "name": "python3"
  },
  "language_info": {
   "codemirror_mode": {
    "name": "ipython",
    "version": 3
   },
   "file_extension": ".py",
   "mimetype": "text/x-python",
   "name": "python",
   "nbconvert_exporter": "python",
   "pygments_lexer": "ipython3",
   "version": "3.12.7"
  }
 },
 "nbformat": 4,
 "nbformat_minor": 2
}
