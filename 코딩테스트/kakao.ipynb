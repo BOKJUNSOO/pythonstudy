{
 "cells": [
  {
   "cell_type": "markdown",
   "metadata": {},
   "source": [
    "# 1. 숫자 문자열과 영단어\n",
    "\n",
    "- 문자열처리 string method\n",
    "    - 문자열자릿수를 바꿔야함 -> index접근 불가능 -> replace이용\n",
    "    - 숫자로만 이루어진 문자열은 바로리턴 -> isdigit\n"
   ]
  },
  {
   "cell_type": "code",
   "execution_count": null,
   "metadata": {},
   "outputs": [],
   "source": [
    "s = \"one4seveneight\" #\"1478\"\n",
    "if s.isdigit():\n",
    "    answer = int(s)\n",
    "\n",
    "dict_ = {\n",
    "    0:\"zero\",\n",
    "    1:\"one\",\n",
    "    2:\"two\",\n",
    "    3:\"three\",\n",
    "    4:\"four\",\n",
    "    5:\"five\",\n",
    "    6:\"six\",\n",
    "    7:\"seven\",\n",
    "    8:\"eight\",\n",
    "    9:\"night\"\n",
    "}\n",
    "for i in dict_:\n",
    "    v = dict_.get(i) # dict_ 는 key를 먼저 가져오고 get으로 value를 가져온다\n",
    "    if v in s:\n",
    "        s = s.replace(v,str(i))\n",
    "s = int(s)"
   ]
  },
  {
   "cell_type": "code",
   "execution_count": 34,
   "metadata": {},
   "outputs": [
    {
     "name": "stdout",
     "output_type": "stream",
     "text": [
      "['111111', '111001', '110011', '11110', '11111', '111010']\n",
      "['111111', '111001', '110011', '11110', '11111', '111010']\n",
      "['111111', '111001', '110011', '11110', '11111', '111010']\n",
      "['111111', '111001', '110011', '11110', '11111', '111010']\n",
      "['111111', '111001', '110011', '11110', '11111', '111010']\n",
      "['111111', '111001', '110011', '11110', '11111', '111010']\n",
      "['######', '###  #', '##  ##', '#### ', '#####', '### # ']\n",
      "['11111', '10101', '11101', '10011', '11111']\n",
      "['11111', '10101', '11101', '10011', '11111']\n",
      "['11111', '10101', '11101', '10011', '11111']\n",
      "['11111', '10101', '11101', '10011', '11111']\n",
      "['11111', '10101', '11101', '10011', '11111']\n",
      "['#####', '# # #', '### #', '#  ##', '#####']\n"
     ]
    }
   ],
   "source": [
    "# shift 연산 필요\n",
    "def solution(n, arr1, arr2):\n",
    "    decode_map = []\n",
    "    for i in range(n):\n",
    "        v = arr1[i]|arr2[i]\n",
    "        decode_map.append(v)\n",
    "    for i in range(n):\n",
    "        decode_map[i] = format(decode_map[i],\"b\")\n",
    "    answer = []\n",
    "    for i in range(n):\n",
    "        temp = decode_map[i].replace(\"1\",\"#\").replace(\"0\",\" \")\n",
    "        answer.append(temp)\n",
    "    return answer\n"
   ]
  },
  {
   "cell_type": "markdown",
   "metadata": {},
   "source": [
    "# 3 . 실패율\n",
    " - 딕셔너리 문법과 특정 함수 메서드에 대한 이해\n",
    "    - 딕셔너리 소팅\n",
    "    - int key와 value 추가\n",
    "    - 특정한 key의 dict 정의\n",
    "\n",
    "    - lambda 함수\n",
    "    - sorted 함수\n",
    " - 줄일수 있는 코드\n"
   ]
  },
  {
   "cell_type": "code",
   "execution_count": 129,
   "metadata": {},
   "outputs": [
    {
     "name": "stdout",
     "output_type": "stream",
     "text": [
      "[3, 4, 2, 1, 5]\n"
     ]
    }
   ],
   "source": [
    "# 런타임 에러\n",
    "def solution(N, stages):\n",
    "    gamer = len(stages)\n",
    "    v = {}\n",
    "    answer = []\n",
    "    for i in range(1,N+1):\n",
    "        stage_count = stages.count(i)\n",
    "        if stage_count == 0:\n",
    "            v[i] = 0\n",
    "        else:            \n",
    "            r = stage_count/gamer\n",
    "            gamer -= stage_count\n",
    "        #v.keys() = i\n",
    "        #v.items() = r\n",
    "        v[i] = r\n",
    "    #answer = sorted(v, key = lambda x: x[1], reverse=True)\n",
    "    answer = sorted(v, key = lambda x: v[x], reverse=True)\n",
    "    return answer\n",
    "answer = solution(5, stages = [2, 1, 2, 6, 2, 4, 3, 3])\n",
    "print(answer)\n",
    "\n",
    "# 런타임 에러\n",
    "def solution(N:int, stages:list):\n",
    "    gamer = len(stages)\n",
    "    v = []\n",
    "    for i in range(1,N+1):\n",
    "        count_stage = stages.count(i)\n",
    "        r = count_stage/gamer\n",
    "        gamer -= count_stage\n",
    "        v.append(r)\n",
    "    dict_ = dict(zip(range(1,N+1),v))\n",
    "    d1 = sorted(dict_.items(), key=lambda x: x[1],reverse=True)\n",
    "    answer = []\n",
    "    for j in d1:\n",
    "        k = j[0]\n",
    "        answer.append(k)\n",
    "    return answer\n",
    "\n",
    "def solution(N, stages):\n",
    "    gamer = len(stages)\n",
    "    v = {}\n",
    "    answer = []\n",
    "    for i in range(1,N+1):\n",
    "        stage_count = stages.count(i)\n",
    "        if stage_count == 0:\n",
    "            v[i] = 0\n",
    "        else:            \n",
    "            v[i] = stage_count/gamer\n",
    "            gamer -= stage_count\n",
    "    answer = sorted(v, key = lambda x: v[x], reverse=True)\n",
    "    return answer\n"
   ]
  },
  {
   "cell_type": "markdown",
   "metadata": {},
   "source": [
    "# 4. 다트\n",
    "- 아이디어 부족\n",
    "    - list 이용 + 리스트 슬라이싱\n",
    "    - dictionary 이용 + 키값 접근\n",
    "    - 10 예외처리\n",
    "    - 문자열 이터럴 이용 (하나씩 포인팅해서 확인하기, 값을 할당하는 것은 불가능!)"
   ]
  },
  {
   "cell_type": "code",
   "execution_count": 167,
   "metadata": {},
   "outputs": [
    {
     "name": "stdout",
     "output_type": "stream",
     "text": [
      "[1, 1]\n",
      "2\n"
     ]
    }
   ],
   "source": [
    "dartResult = \"1S*\" # KD#2S*3S [-100,2,3]\n",
    "dartResult = dartResult.replace(\"10\", \"K\")\n",
    "score = []\n",
    "square_dict = {'S':1, 'D': 2, 'T':3}\n",
    "option_dict = {'*':2, '#':-1}\n",
    "for v in dartResult:\n",
    "    if v.isdigit():\n",
    "        score.append(int(v))\n",
    "    else:\n",
    "        if v == \"K\":\n",
    "            score.append(10)\n",
    "        elif v in square_dict:\n",
    "            score[-1] **= square_dict[v]\n",
    "        else:\n",
    "            if v == \"*\":\n",
    "                score[-2:] *= 2\n",
    "                # 리스트 슬라이싱 = 리스트 // 원소 대체 (차원이 커지는것이 아님!)\n",
    "                score[-2:] = [x*2 for x in score[-2:]]\n",
    "            else:\n",
    "                score[-1] *= option_dict[v]\n",
    "print(sum(score))"
   ]
  },
  {
   "cell_type": "code",
   "execution_count": 174,
   "metadata": {},
   "outputs": [
    {
     "name": "stdout",
     "output_type": "stream",
     "text": [
      "[24, 246246]\n",
      "[12, 123123]\n"
     ]
    }
   ],
   "source": [
    "list_ = [12,3,5]\n",
    "list_[-2:] = [123123]\n",
    "stack = [x*2 for x in list_[-2:]]\n",
    "print(stack)\n",
    "print(list_)\n",
    "\n",
    "option_dict = {'*':2, '#':-1}\n",
    "# 키 기준 \"*\" in option_dict\n",
    "# values는 키로 접근 option_dict[\"#\"]\n",
    "list_ = [100,2,3]\n",
    "#list_[-2:]\n",
    "#sum(list_)\n",
    "\n"
   ]
  },
  {
   "cell_type": "markdown",
   "metadata": {},
   "source": [
    "# 5. 크레인 인형뽑기 게임\n",
    "- 스택 자료구조를 썼다.\n",
    "- 리스트 자료구조라 조금 편한 느낌..\n",
    "- 섬세한 부분이 시간초과 여부 결정 하기도함"
   ]
  },
  {
   "cell_type": "code",
   "execution_count": 254,
   "metadata": {},
   "outputs": [
    {
     "name": "stdout",
     "output_type": "stream",
     "text": [
      "4\n"
     ]
    }
   ],
   "source": [
    "def solution(board, moves):\n",
    "    n = len(board)\n",
    "    rot_board=[[None] * n for _ in range(n)]\n",
    "    for i in range(n):\n",
    "        for j in range(n):\n",
    "            rot_board[j][i] = board[i][j]\n",
    "    stack = []\n",
    "    answer = 0\n",
    "    #cnt = 0 해당부분 없어지니 시간초과가 안떴다 \n",
    "    # moves 의 길이와 상관없이 원소를 참조해야하기 때문에 stack의 크기를 생각..\n",
    "    for m in moves:\n",
    "        for j in range(n):\n",
    "            if rot_board[m-1][j] == 0:\n",
    "                continue\n",
    "            else:\n",
    "                stack.append(rot_board[m-1][j])\n",
    "                rot_board[m-1][j] = 0\n",
    "                break\n",
    "        if len(stack)>=2:\n",
    "            if stack[-1] == stack[-2]:\n",
    "                answer += 2\n",
    "                stack.pop()\n",
    "                stack.pop()\n",
    "        #cnt += 1\n",
    "    return answer"
   ]
  },
  {
   "cell_type": "markdown",
   "metadata": {},
   "source": [
    "# 키패드 누르기\n",
    "- 2차원 배열 내의 원소간의 거리 찾는 idea\n",
    "- 예외처리"
   ]
  },
  {
   "cell_type": "code",
   "execution_count": 56,
   "metadata": {},
   "outputs": [
    {
     "name": "stdout",
     "output_type": "stream",
     "text": [
      "LRLLLRLLRRL\n",
      "LRLLLRLLRRL\n"
     ]
    }
   ],
   "source": [
    "def distance(start,end):\n",
    "    matrix=[\n",
    "        ['1','2','3'],\n",
    "        ['4','5','6'],\n",
    "        ['7','8','9'],\n",
    "        ['*','0','#']\n",
    "    ]\n",
    "    start_loc=[]\n",
    "    end_loc=[]\n",
    "    dist=0\n",
    "    for idx,r in enumerate(matrix):\n",
    "        if str(start) in r:\n",
    "            start_loc.append(idx)\n",
    "            start_loc.append(r.index(str(start)))\n",
    "        if str(end) in r:\n",
    "            end_loc.append(idx)\n",
    "            end_loc.append(r.index(str(end)))\n",
    "    dist = abs(start_loc[0] - end_loc[0]) + abs(end_loc[1]- start_loc[1])\n",
    "    return dist\n",
    "\n",
    "def solution(numbers,hand):\n",
    "    answer=\"\"\n",
    "    left_h=\"*\"\n",
    "    right_h=\"#\"\n",
    "    left_col = [1,4,7]\n",
    "    right_col = [3,6,9]\n",
    "    for _ in numbers:\n",
    "        if _ in left_col:\n",
    "            answer+=\"L\"\n",
    "            left_h=_\n",
    "            continue\n",
    "        if _ in right_col:\n",
    "            answer+=\"R\"\n",
    "            right_h=_\n",
    "            continue\n",
    "        else:\n",
    "            if distance(left_h,_) < distance(right_h,_):\n",
    "                answer+=\"L\"\n",
    "                left_h=_\n",
    "                continue\n",
    "            if distance(left_h,_) > distance(right_h,_):\n",
    "                answer+=\"R\"\n",
    "                right_h=_\n",
    "                continue\n",
    "            else:\n",
    "                if hand==\"right\":\n",
    "                    answer+=\"R\"\n",
    "                    right_h=_\n",
    "                    continue\n",
    "                else:\n",
    "                    answer+=\"L\"\n",
    "                    left_h=_\n",
    "                    continue\n",
    "    return answer\n",
    "solution([1, 3, 4, 5, 8, 2, 1, 4, 5, 9, 5],\"right\")            \n",
    "what = \"LRLLLRLLRRL\"\n",
    "print(what)\n",
    "\n"
   ]
  },
  {
   "cell_type": "code",
   "execution_count": 5,
   "metadata": {},
   "outputs": [
    {
     "name": "stdout",
     "output_type": "stream",
     "text": [
      "LRLLLRLLRRL\n",
      "LRLLLRLLRRL\n"
     ]
    }
   ],
   "source": [
    "def vector(start):\n",
    "    matrix=[\n",
    "        ['1','2','3'],\n",
    "        ['4','5','6'],\n",
    "        ['7','8','9'],\n",
    "        ['*','0','#']\n",
    "    ]\n",
    "    for i in range(len(matrix)):\n",
    "        for j in range(3):\n",
    "            if start in matrix[i][j]:\n",
    "                v = (i,j)\n",
    "    return v\n",
    "\n",
    "def distance(v,w):\n",
    "    dis = abs(v[0] - w[0]) + abs(v[1] - w[1])\n",
    "    return dis\n",
    "\n",
    "def solution(numbers,hand):\n",
    "    answer = \"\"\n",
    "    left_h=\"*\"\n",
    "    right_h=\"#\"\n",
    "    left_col=[1,4,7]\n",
    "    right_col=[3,6,9]\n",
    "    for _ in numbers:\n",
    "        if _ in left_col:\n",
    "            answer+=\"L\"\n",
    "            left_h=str(_)\n",
    "            continue\n",
    "        if _ in right_col:\n",
    "            answer+=\"R\"\n",
    "            right_h=str(_)\n",
    "            continue\n",
    "        # 누를 번호가 2,5,8,0이라면\n",
    "        else:\n",
    "            v = vector(left_h)\n",
    "            w = vector(right_h)\n",
    "            k = vector(str(_))\n",
    "            if distance(v,k) < distance(w,k):\n",
    "                answer+=\"L\"\n",
    "                left_h=str(_)\n",
    "                continue\n",
    "            if distance(v,k) > distance(w,k):\n",
    "                answer+=\"R\"\n",
    "                right_h=str(_)\n",
    "                continue\n",
    "            else:\n",
    "                if hand ==\"right\":\n",
    "                    answer+=\"R\"\n",
    "                    right_h=str(_)\n",
    "                    continue\n",
    "                else:\n",
    "                    answer+=\"L\"\n",
    "                    left_h=str(_)\n",
    "                    continue\n",
    "    return answer\n",
    "\n",
    "        "
   ]
  },
  {
   "cell_type": "markdown",
   "metadata": {},
   "source": [
    "# 7. 성격 유형 검사하기\n",
    "- 딕셔너리 소팅\n"
   ]
  },
  {
   "cell_type": "code",
   "execution_count": 156,
   "metadata": {},
   "outputs": [
    {
     "name": "stdout",
     "output_type": "stream",
     "text": [
      "RCJA\n"
     ]
    }
   ],
   "source": [
    "def solution(survey,choices):\n",
    "    check = [{\"R\":0,\"T\":0},{\"C\":0,\"F\":0},{\"J\":0,\"M\":0},{\"A\":0,\"N\":0}]\n",
    "    for _ in range(len(survey)):\n",
    "        if choices[_] in [1,2,3]:\n",
    "            key = survey[_][0]\n",
    "            if choices[_] == 1:\n",
    "                sum_ = 3\n",
    "            if choices[_] == 2:\n",
    "                sum_ = 2\n",
    "            if choices[_] == 3:\n",
    "                sum_ = 1\n",
    "            for j in range(len(check)):\n",
    "                if key in check[j]:\n",
    "                    check[j][key] += sum_\n",
    "        if choices[_] in [5,6,7]:\n",
    "            key = survey[_][1]\n",
    "            if choices[_] == 5:\n",
    "                sum_ = 1\n",
    "            if choices[_] == 6:\n",
    "                sum_ = 2\n",
    "            if choices[_] == 7:\n",
    "                sum_ = 3\n",
    "            for j in range(len(check)):\n",
    "                if key in check[j]:\n",
    "                    check[j][key] += sum_\n",
    "    sorted_check = [dict(sorted(_.items(), key = lambda x: x[1], reverse=True)) for _ in check]\n",
    "    answer = \"\"\n",
    "    for _ in (sorted_check):\n",
    "        answer += list(_.keys())[0]\n",
    "    return answer\n",
    "\n",
    "    \n"
   ]
  },
  {
   "cell_type": "markdown",
   "metadata": {},
   "source": [
    "# 8. 신규 아이디 추천\n",
    "\n",
    "- 스택 (인형뽑기와 비슷)\n",
    "- 스택대신에 replace()도 가능 (아마도)"
   ]
  },
  {
   "cell_type": "code",
   "execution_count": 70,
   "metadata": {},
   "outputs": [
    {
     "name": "stdout",
     "output_type": "stream",
     "text": [
      "abcdefghijklmn\n"
     ]
    }
   ],
   "source": [
    "arr_ = ['~','!','@',\"#\",'$','%','^','&','*',\n",
    "        '(',')'\n",
    "        ,'=','+','['\n",
    "        ,'{',']','}',':','?',',','<','>','/']\n",
    "\n",
    "# 1단계\n",
    "def solution(new_id:str):\n",
    "    arr_ = ['~','!','@',\"#\",'$','%','^','&','*',\n",
    "        '(',')'\n",
    "        ,'=','+','['\n",
    "        ,'{',']','}',':','?',',','<','>','/']\n",
    "    new_id = new_id.lower()\n",
    "\n",
    "    change_id = \"\"\n",
    "    for i in new_id:\n",
    "        if i not in arr_:\n",
    "            change_id += i\n",
    "\n",
    "    stack = []\n",
    "    if len(change_id) != 0:\n",
    "        for i in change_id:\n",
    "            if len(stack) != 0:\n",
    "                if stack[-1] == \".\" and i == \".\":\n",
    "                    stack.pop()\n",
    "            stack.append(i)\n",
    "\n",
    "    if len(stack) !=0:\n",
    "        if stack[0] == \".\":\n",
    "            stack.pop(0)\n",
    "    if len(stack) !=0:\n",
    "        if stack[-1] == \".\":\n",
    "            stack.pop(-1)\n",
    "    # 5단계\n",
    "    if len(stack) == 0:\n",
    "        stack = [\"a\"]\n",
    "    # 6단계\n",
    "    if len(stack) >= 16:\n",
    "        stack = stack[:15]\n",
    "    if stack[-1] == '.':\n",
    "        stack.pop(-1)\n",
    "\n",
    "    # 7단계\n",
    "    if len(stack) <=2:\n",
    "        while True:\n",
    "            stack.append(stack[-1])\n",
    "            if len(stack) == 3:\n",
    "                break\n",
    "    answer = \"\"\n",
    "    for i in range(len(stack)):\n",
    "        answer += stack[i]\n",
    "    return answer\n"
   ]
  },
  {
   "cell_type": "code",
   "execution_count": 79,
   "metadata": {},
   "outputs": [
    {
     "data": {
      "text/plain": [
       "'abcdefghijklmn'"
      ]
     },
     "execution_count": 79,
     "metadata": {},
     "output_type": "execute_result"
    }
   ],
   "source": [
    "# 리스트 안쓰고 문자열로 처리리\n",
    "arr_ = ['~','!','@',\"#\",'$','%','^','&','*',\n",
    "        '(',')'\n",
    "        ,'=','+','['\n",
    "        ,'{',']','}',':','?',',','<','>','/']\n",
    "def solution(new_id:str):\n",
    "    #1\n",
    "    new_id = new_id.lower()\n",
    "    #2\n",
    "    change_id = \"\"\n",
    "    for v in new_id:\n",
    "        if v not in arr_:\n",
    "            change_id += v\n",
    "    #3 해당 단계로 인하여 . 을 지워도 또 나오지 않음!\n",
    "    while \"..\" in change_id:\n",
    "        change_id = change_id.replace(\"..\",\".\")\n",
    "    #4\n",
    "    if change_id[0] == \".\":\n",
    "        change_id = change_id[1:] if len(change_id) > 1 else '.' # 삼항연산\n",
    "    if change_id[-1] == '.':\n",
    "        change_id = change_id[:-1]\n",
    "    #5\n",
    "    if len(change_id) == 0:\n",
    "        change_id = \"a\"\n",
    "    # 6\n",
    "    if len(change_id) >=16:\n",
    "        change_id = change_id[:15]\n",
    "        if change_id[-1] == '.':\n",
    "            change_id = change_id[:-1]\n",
    "    # 7\n",
    "    if len(change_id) <= 2:\n",
    "        while 1:\n",
    "            if len(change_id) == 3:\n",
    "                break\n",
    "            change_id += change_id[-1]\n",
    "    return change_id\n",
    "solution(\"abcdefghijklmn.p\")"
   ]
  },
  {
   "cell_type": "code",
   "execution_count": 80,
   "metadata": {},
   "outputs": [
    {
     "data": {
      "text/plain": [
       "'bok.junesoo'"
      ]
     },
     "execution_count": 80,
     "metadata": {},
     "output_type": "execute_result"
    }
   ],
   "source": [
    "test_ = \".bok.junesoo..\"\n",
    "test_.strip(\".\")"
   ]
  },
  {
   "cell_type": "code",
   "execution_count": null,
   "metadata": {},
   "outputs": [],
   "source": []
  }
 ],
 "metadata": {
  "kernelspec": {
   "display_name": "Python 3",
   "language": "python",
   "name": "python3"
  },
  "language_info": {
   "codemirror_mode": {
    "name": "ipython",
    "version": 3
   },
   "file_extension": ".py",
   "mimetype": "text/x-python",
   "name": "python",
   "nbconvert_exporter": "python",
   "pygments_lexer": "ipython3",
   "version": "3.12.7"
  }
 },
 "nbformat": 4,
 "nbformat_minor": 2
}
